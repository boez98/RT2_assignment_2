{
 "cells": [
  {
   "cell_type": "markdown",
   "id": "366240a2",
   "metadata": {},
   "source": [
    "# Import libraries"
   ]
  },
  {
   "cell_type": "code",
   "execution_count": 1,
   "id": "5f2a1258",
   "metadata": {
    "ExecuteTime": {
     "end_time": "2023-05-17T18:26:18.073237Z",
     "start_time": "2023-05-17T18:25:44.429905Z"
    }
   },
   "outputs": [],
   "source": [
    "import jupyros as jr\n",
    "import rospy\n",
    "import ipywidgets as widgets\n",
    "from ipywidgets import Button, Layout, ButtonStyle, GridBox, VBox, HBox\n",
    "from matplotlib import pyplot as plt\n",
    "\n",
    "import actionlib\n",
    "import actionlib.msg\n",
    "import assignment_2_2022.msg\n",
    "from nav_msgs.msg import Odometry\n",
    "from assignment_2_2022.msg import Pos_and_Vel\n",
    "from assignment_2_2022.srv import Num_Goal_rc, Num_Goal_rcResponse\n",
    "from sensor_msgs.msg import LaserScan\n",
    "\n",
    "\n",
    "import tf\n",
    "from tf.transformations import quaternion_matrix\n",
    "import numpy as np\n",
    "from matplotlib.animation import FuncAnimation\n",
    "import numpy as np\n",
    "import matplotlib as mpl"
   ]
  },
  {
   "cell_type": "markdown",
   "id": "c2d6431d",
   "metadata": {},
   "source": [
    "# Variables and initialization Node A"
   ]
  },
  {
   "cell_type": "code",
   "execution_count": 2,
   "id": "96aa2ae1",
   "metadata": {
    "ExecuteTime": {
     "end_time": "2023-05-17T18:26:33.711157Z",
     "start_time": "2023-05-17T18:26:30.590967Z"
    }
   },
   "outputs": [],
   "source": [
    "global goal\n",
    "global client\n",
    "global publisher\n",
    "global msg\n",
    "global num_c\n",
    "global num_r\n",
    "\n",
    "x_plot = []\n",
    "y_plot = []\n",
    "\n",
    "#initialize the node\n",
    "rospy.init_node('RT2_nodeA')"
   ]
  },
  {
   "cell_type": "markdown",
   "id": "6f62ee5c",
   "metadata": {},
   "source": [
    "# Set Publisher  on the topic /pos_and_vel"
   ]
  },
  {
   "cell_type": "code",
   "execution_count": 3,
   "id": "0025a62e",
   "metadata": {
    "ExecuteTime": {
     "end_time": "2023-05-17T18:26:36.690345Z",
     "start_time": "2023-05-17T18:26:36.677940Z"
    }
   },
   "outputs": [],
   "source": [
    "publisher = rospy.Publisher(\"/pos_and_vel\", Pos_and_Vel, queue_size = 10)"
   ]
  },
  {
   "cell_type": "markdown",
   "id": "cdee5e25",
   "metadata": {},
   "source": [
    "# Callback function"
   ]
  },
  {
   "cell_type": "code",
   "execution_count": 4,
   "id": "5205e512",
   "metadata": {
    "ExecuteTime": {
     "end_time": "2023-05-17T18:26:40.789870Z",
     "start_time": "2023-05-17T18:26:40.725074Z"
    }
   },
   "outputs": [],
   "source": [
    "def callback(msg):\n",
    "    \n",
    "    global x_plot, y_plot\n",
    "    # Fill the matrix plot with the coordinates\n",
    "    x_plot.append(msg.pose.pose.position.x)\n",
    "    y_plot.append(msg.pose.pose.position.y)\n",
    "    \n",
    "    pos_vel = Pos_and_Vel()\n",
    "    \n",
    "    pos_vel.pos_x = msg.pose.pose.position.x\n",
    "    pos_vel.pos_y = msg.pose.pose.position.y\n",
    "    pos_vel.vel_x = msg.twist.twist.linear.x\n",
    "    pos_vel.vel_y = msg.twist.twist.linear.y\n",
    "    \n",
    "    publisher.publish(pos_vel)"
   ]
  },
  {
   "cell_type": "markdown",
   "id": "5c2e6982",
   "metadata": {},
   "source": [
    "# Set Subscriber to the topic /odom"
   ]
  },
  {
   "cell_type": "code",
   "execution_count": 5,
   "id": "68c37471",
   "metadata": {
    "ExecuteTime": {
     "end_time": "2023-05-17T18:26:45.911604Z",
     "start_time": "2023-05-17T18:26:45.532163Z"
    }
   },
   "outputs": [
    {
     "data": {
      "application/vnd.jupyter.widget-view+json": {
       "model_id": "41953e3b2c4447bdb6882a96e7143308",
       "version_major": 2,
       "version_minor": 0
      },
      "text/plain": [
       "VBox(children=(HBox(children=(Button(description='Stop', style=ButtonStyle()),)), Output(layout=Layout(border=…"
      ]
     },
     "metadata": {},
     "output_type": "display_data"
    }
   ],
   "source": [
    "jr.subscribe(\"/odom\", Odometry, callback)"
   ]
  },
  {
   "cell_type": "markdown",
   "id": "a7af07ae",
   "metadata": {},
   "source": [
    "# Set Action Client "
   ]
  },
  {
   "cell_type": "code",
   "execution_count": 6,
   "id": "7da96553",
   "metadata": {
    "ExecuteTime": {
     "end_time": "2023-05-17T18:26:52.607183Z",
     "start_time": "2023-05-17T18:26:51.543914Z"
    }
   },
   "outputs": [
    {
     "data": {
      "text/plain": [
       "True"
      ]
     },
     "execution_count": 6,
     "metadata": {},
     "output_type": "execute_result"
    }
   ],
   "source": [
    "client = actionlib.SimpleActionClient('/reaching_goal', assignment_2_2022.msg.PlanningAction)\n",
    "\n",
    "#wait for server\n",
    "client.wait_for_server()"
   ]
  },
  {
   "cell_type": "markdown",
   "id": "71ae7a3d",
   "metadata": {},
   "source": [
    "# Setting interface for setting/canceling goal"
   ]
  },
  {
   "cell_type": "code",
   "execution_count": 7,
   "id": "2b49c8f6",
   "metadata": {
    "ExecuteTime": {
     "end_time": "2023-05-17T18:27:01.322922Z",
     "start_time": "2023-05-17T18:27:00.614135Z"
    },
    "scrolled": true
   },
   "outputs": [],
   "source": [
    "goal = assignment_2_2022.msg.PlanningGoal()\n",
    "\n",
    "# Goal coordinates\n",
    "x = widgets.FloatSlider(value=0 ,min=-10, max=10,step=0.5, description = \"x:\", orientation='horizontal')\n",
    "y = widgets.FloatSlider(value=0 ,min=-10, max=10,step=0.5, description = \"y:\", orientation='horizontal')\n",
    "\n",
    "# Widgets Buttons\n",
    "send_button = Button(description='Send goal',tooltip='Send goal',layout=Layout(width='50%', height='100px', grid_area='b1'),button_style='info')\n",
    "cancel_button = Button(description='Cancel goal',tooltip='Cancel goal',layout=Layout(width='50%',height='100px', grid_area='b2'),button_style='danger')\n",
    "\n",
    "\n",
    "# if send button is clicked \n",
    "def on_button_send_clicked(b):\n",
    "    \n",
    "    goal.target_pose.pose.position.x = x.value\n",
    "    goal.target_pose.pose.position.y = y.value\n",
    "    \n",
    "    #update goal list\n",
    "    goal_list.value = goal_list.value + \"Goal x: \" + str(x.value) + \"  y: \" + str(y.value) + \"\\n\"\n",
    "    \n",
    "    #send the goal returned by set_goal()\n",
    "    client.send_goal(goal)\n",
    "    \n",
    "    x.disabled = True\n",
    "    y.disabled = True\n",
    "    send_button.disabled = True\n",
    "    cancel_button.disabled = False\n",
    "    \n",
    "\n",
    "send_button.on_click(on_button_send_clicked)\n",
    "\n",
    "\n",
    "def on_cancel_button_clicked(b):\n",
    "    client.cancel_goal()\n",
    "    \n",
    "cancel_button.on_click(on_cancel_button_clicked)\n",
    "        "
   ]
  },
  {
   "cell_type": "markdown",
   "id": "38d1a935",
   "metadata": {},
   "source": [
    "# Result function and widget"
   ]
  },
  {
   "cell_type": "code",
   "execution_count": 9,
   "id": "5e61bfa4",
   "metadata": {
    "ExecuteTime": {
     "end_time": "2023-05-17T18:27:08.630853Z",
     "start_time": "2023-05-17T18:27:08.604107Z"
    }
   },
   "outputs": [],
   "source": [
    "def update_num(num_r, num_c):\n",
    "    \n",
    "    goal_list.value = goal_list.value +  str(num_c)+ \"  Goal cancelled!\\n\"\n",
    "    goal_list.value = goal_list.value +  str(num_r)+ \"  Goal reached!\\n\""
   ]
  },
  {
   "cell_type": "code",
   "execution_count": 10,
   "id": "0ab043db",
   "metadata": {
    "ExecuteTime": {
     "end_time": "2023-05-17T18:27:10.946192Z",
     "start_time": "2023-05-17T18:27:10.879470Z"
    }
   },
   "outputs": [],
   "source": [
    "def checkGoalResult(msg):\n",
    "    global num_c, num_r\n",
    "    \n",
    "    # Get the status \n",
    "    status = msg.status.status\n",
    "\n",
    "    # If status is 2 the goal is canceled\n",
    "    if status == 2:\n",
    "        \n",
    "        num_c = num_c + 1\n",
    "        \n",
    "        x.disabled = False\n",
    "        y.disabled = False\n",
    "        \n",
    "        send_button.disabled = False\n",
    "        cancel_button.disabled = True\n",
    "        \n",
    "        \n",
    "\n",
    "    # If status is 3 the goal is reached\n",
    "    elif status == 3:\n",
    "        \n",
    "        num_r = num_r + 1\n",
    "        \n",
    "        x.disabled = False\n",
    "        y.disabled = False\n",
    "        \n",
    "        send_button.disabled = False\n",
    "        cancel_button.disabled = True\n",
    "        \n",
    "        \n",
    "\n",
    "    update_num(num_r, num_c)\n",
    "    \n",
    "num_r, num_c = 0,0"
   ]
  },
  {
   "cell_type": "markdown",
   "id": "a1112947",
   "metadata": {},
   "source": [
    "# Set Subscriber for result"
   ]
  },
  {
   "cell_type": "code",
   "execution_count": 11,
   "id": "d1c4e03a",
   "metadata": {
    "ExecuteTime": {
     "end_time": "2023-05-17T18:27:16.365201Z",
     "start_time": "2023-05-17T18:27:15.779922Z"
    }
   },
   "outputs": [
    {
     "data": {
      "application/vnd.jupyter.widget-view+json": {
       "model_id": "5bb96224dc3f48c7932e90bfe2f2f7f0",
       "version_major": 2,
       "version_minor": 0
      },
      "text/plain": [
       "VBox(children=(HBox(children=(Button(description='Stop', style=ButtonStyle()),)), Output(layout=Layout(border=…"
      ]
     },
     "metadata": {},
     "output_type": "display_data"
    }
   ],
   "source": [
    "jr.subscribe(\"/reaching_goal/result\", assignment_2_2022.msg.PlanningActionResult, checkGoalResult)"
   ]
  },
  {
   "cell_type": "markdown",
   "id": "35765494",
   "metadata": {},
   "source": [
    "# Laser function"
   ]
  },
  {
   "cell_type": "code",
   "execution_count": 16,
   "id": "f9cde5d1",
   "metadata": {
    "ExecuteTime": {
     "end_time": "2023-05-17T18:31:35.677946Z",
     "start_time": "2023-05-17T18:31:35.247524Z"
    },
    "scrolled": true
   },
   "outputs": [],
   "source": [
    "dmin = widgets.FloatText(description = \"Distance:\", disabled = True)\n",
    "ang = widgets.FloatText(description = \"Angle:\", disabled = True)\n",
    "\n",
    "def laserCallback(scan):\n",
    "    min_range = 100\n",
    "    angle = 100\n",
    "    for at, x in enumerate(scan.ranges):\n",
    "        if x < min_range and x > scan.range_min:\n",
    "            min_range = x\n",
    "            angle = scan.angle_min + scan.angle_increment * at\n",
    "    \n",
    "    dmin.value = min_range\n",
    "    ang.value = angle\n"
   ]
  },
  {
   "cell_type": "markdown",
   "id": "217de0ef",
   "metadata": {
    "ExecuteTime": {
     "end_time": "2023-05-17T17:48:10.653191Z",
     "start_time": "2023-05-17T17:48:10.543017Z"
    }
   },
   "source": [
    "# Set Subscriber to /scan topic"
   ]
  },
  {
   "cell_type": "code",
   "execution_count": 17,
   "id": "c7264d2a",
   "metadata": {
    "ExecuteTime": {
     "end_time": "2023-05-17T18:31:40.522104Z",
     "start_time": "2023-05-17T18:31:40.059436Z"
    }
   },
   "outputs": [
    {
     "data": {
      "application/vnd.jupyter.widget-view+json": {
       "model_id": "22a68f283a9644a8b9080634905d9ac2",
       "version_major": 2,
       "version_minor": 0
      },
      "text/plain": [
       "VBox(children=(HBox(children=(Button(description='Stop', style=ButtonStyle()),)), Output(layout=Layout(border=…"
      ]
     },
     "metadata": {},
     "output_type": "display_data"
    }
   ],
   "source": [
    "jr.subscribe('/scan', LaserScan, laserCallback)"
   ]
  },
  {
   "cell_type": "markdown",
   "id": "4d18efa5",
   "metadata": {},
   "source": [
    "# All the widgets"
   ]
  },
  {
   "cell_type": "code",
   "execution_count": 12,
   "id": "3e27ef8b",
   "metadata": {
    "ExecuteTime": {
     "end_time": "2023-05-17T18:27:43.342629Z",
     "start_time": "2023-05-17T18:27:42.945544Z"
    },
    "scrolled": true
   },
   "outputs": [
    {
     "data": {
      "application/vnd.jupyter.widget-view+json": {
       "model_id": "fec2e612c4ad44f695fd7e8548e9f174",
       "version_major": 2,
       "version_minor": 0
      },
      "text/plain": [
       "HBox(children=(VBox(children=(FloatSlider(value=0.0, description='x:', max=10.0, min=-10.0, step=0.5), FloatSl…"
      ]
     },
     "metadata": {},
     "output_type": "display_data"
    }
   ],
   "source": [
    "widgets.HBox([widgets.VBox([x, y]), widgets.HBox([send_button, cancel_button])])"
   ]
  },
  {
   "cell_type": "code",
   "execution_count": 13,
   "id": "898de5ee",
   "metadata": {
    "ExecuteTime": {
     "end_time": "2023-05-17T18:27:47.988689Z",
     "start_time": "2023-05-17T18:27:47.749467Z"
    }
   },
   "outputs": [
    {
     "data": {
      "application/vnd.jupyter.widget-view+json": {
       "model_id": "a6fb1ff9582e4307ae4440edcc7692e0",
       "version_major": 2,
       "version_minor": 0
      },
      "text/plain": [
       "Textarea(value='Goal list:\\n', disabled=True)"
      ]
     },
     "metadata": {},
     "output_type": "display_data"
    }
   ],
   "source": [
    "goal_list = widgets.Textarea(value = \"Goal list:\\n\", disabled = True, style = dict(text_color = 'red') )\n",
    "\n",
    "display(goal_list)"
   ]
  },
  {
   "cell_type": "code",
   "execution_count": 18,
   "id": "e6ffdc8e",
   "metadata": {
    "ExecuteTime": {
     "end_time": "2023-05-17T18:32:22.892055Z",
     "start_time": "2023-05-17T18:32:22.729498Z"
    }
   },
   "outputs": [
    {
     "data": {
      "application/vnd.jupyter.widget-view+json": {
       "model_id": "181408e4f5eb4b3ca2637a208bd14e26",
       "version_major": 2,
       "version_minor": 0
      },
      "text/plain": [
       "HBox(children=(FloatText(value=1.458561658859253, description='Distance:', disabled=True), FloatText(value=0.2…"
      ]
     },
     "metadata": {},
     "output_type": "display_data"
    }
   ],
   "source": [
    "widgets.HBox([dmin, ang], description = \"Distance from obstacle\")"
   ]
  },
  {
   "cell_type": "markdown",
   "id": "d69e2439",
   "metadata": {},
   "source": [
    "# Live pos and vel"
   ]
  },
  {
   "cell_type": "code",
   "execution_count": 19,
   "id": "105dc0e2",
   "metadata": {
    "ExecuteTime": {
     "end_time": "2023-05-17T18:32:42.550221Z",
     "start_time": "2023-05-17T18:32:41.939483Z"
    }
   },
   "outputs": [
    {
     "data": {
      "application/vnd.jupyter.widget-view+json": {
       "model_id": "57ca7fa0fff04405a5581bad983cf394",
       "version_major": 2,
       "version_minor": 0
      },
      "text/plain": [
       "HBox(children=(VBox(children=(FloatText(value=0.0, description='Pos x:', disabled=True), FloatText(value=0.0, …"
      ]
     },
     "metadata": {},
     "output_type": "display_data"
    }
   ],
   "source": [
    "posx = widgets.FloatText(description = \"Pos x:\", disabled = True)\n",
    "posy = widgets.FloatText(description = \"Pos y:\", disabled = True)\n",
    "velx = widgets.FloatText(description = \"Vel x:\", disabled = True)\n",
    "vely = widgets.FloatText(description = \"Vel y:\", disabled = True)\n",
    "    \n",
    "widgets.HBox([widgets.VBox([posx, posy]), widgets.VBox([velx, vely])])"
   ]
  },
  {
   "cell_type": "code",
   "execution_count": 20,
   "id": "f2d334fe",
   "metadata": {
    "ExecuteTime": {
     "end_time": "2023-05-17T18:32:52.311182Z",
     "start_time": "2023-05-17T18:32:52.238271Z"
    }
   },
   "outputs": [],
   "source": [
    "class Visualiser:\n",
    "    \n",
    "    def __init__(self):\n",
    "        self.x_data, self.y_data = [] , []\n",
    "    \n",
    "    def vis_callback(self, data):\n",
    "        self.y_data.append(data.pos_y)\n",
    "        self.x_data.append(data.pos_x)\n",
    "        posx.value = data.pos_x\n",
    "        posy.value = data.pos_y\n",
    "        velx.value = data.vel_x\n",
    "        vely.value = data.vel_y\n",
    "        \n",
    "    def update_plot(self, frame):\n",
    "        self.ln.set_data(self.x_data, self.y_data)\n",
    "        return self.ln"
   ]
  },
  {
   "cell_type": "code",
   "execution_count": 21,
   "id": "32affcaa",
   "metadata": {
    "ExecuteTime": {
     "end_time": "2023-05-17T18:32:55.765667Z",
     "start_time": "2023-05-17T18:32:55.386891Z"
    }
   },
   "outputs": [],
   "source": [
    "vis = Visualiser()\n",
    "sub = jr.subscribe('/pos_and_vel', Pos_and_Vel, vis.vis_callback)\n"
   ]
  },
  {
   "cell_type": "markdown",
   "id": "af68e8a9",
   "metadata": {},
   "source": [
    "# Movement graph"
   ]
  },
  {
   "cell_type": "code",
   "execution_count": 23,
   "id": "c3dfbdad",
   "metadata": {
    "ExecuteTime": {
     "end_time": "2023-05-17T18:41:52.204962Z",
     "start_time": "2023-05-17T18:41:51.277883Z"
    }
   },
   "outputs": [
    {
     "data": {
      "text/plain": [
       "Text(0, 0.5, 'y')"
      ]
     },
     "execution_count": 23,
     "metadata": {},
     "output_type": "execute_result"
    },
    {
     "data": {
      "image/png": "[encoded data removed]",
      "text/plain": [
       "<Figure size 432x288 with 1 Axes>"
      ]
     },
     "metadata": {
      "needs_background": "light"
     },
     "output_type": "display_data"
    }
   ],
   "source": [
    "np_x_plot = np.array(x_plot) # sometimes may happen that array x and y have different dimension and plot doesn't work\n",
    "np_y_plot = np.array(y_plot)\n",
    "\n",
    "fig = plt.figure()\n",
    "\n",
    "ax = fig.add_axes([0,0,1,1])\n",
    "ax.set_xlim(-10, 10)\n",
    "ax.set_ylim(-10, 10)\n",
    "ax.plot(np_x_plot,np_y_plot)\n",
    "ax.set_title(\"my_robot\")\n",
    "ax.set_xlabel(\"x\")\n",
    "ax.set_ylabel(\"y\")"
   ]
  },
  {
   "cell_type": "code",
   "execution_count": null,
   "id": "32025bbd",
   "metadata": {},
   "outputs": [],
   "source": []
  }
 ],
 "metadata": {
  "kernelspec": {
   "display_name": "Python 3 (ipykernel)",
   "language": "python",
   "name": "python3"
  },
  "language_info": {
   "codemirror_mode": {
    "name": "ipython",
    "version": 3
   },
   "file_extension": ".py",
   "mimetype": "text/x-python",
   "name": "python",
   "nbconvert_exporter": "python",
   "pygments_lexer": "ipython3",
   "version": "3.8.5"
  },
  "toc": {
   "base_numbering": 1,
   "nav_menu": {},
   "number_sections": true,
   "sideBar": true,
   "skip_h1_title": false,
   "title_cell": "Table of Contents",
   "title_sidebar": "Contents",
   "toc_cell": false,
   "toc_position": {},
   "toc_section_display": true,
   "toc_window_display": false
  },
  "varInspector": {
   "cols": {
    "lenName": 16,
    "lenType": 16,
    "lenVar": 40
   },
   "kernels_config": {
    "python": {
     "delete_cmd_postfix": "",
     "delete_cmd_prefix": "del ",
     "library": "var_list.py",
     "varRefreshCmd": "print(var_dic_list())"
    },
    "r": {
     "delete_cmd_postfix": ") ",
     "delete_cmd_prefix": "rm(",
     "library": "var_list.r",
     "varRefreshCmd": "cat(var_dic_list()) "
    }
   },
   "types_to_exclude": [
    "module",
    "function",
    "builtin_function_or_method",
    "instance",
    "_Feature"
   ],
   "window_display": false
  }
 },
 "nbformat": 4,
 "nbformat_minor": 5
}
