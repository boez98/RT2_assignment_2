{
 "cells": [
  {
   "cell_type": "markdown",
   "id": "366240a2",
   "metadata": {
    "heading_collapsed": true
   },
   "source": [
    "# Import libraries"
   ]
  },
  {
   "cell_type": "code",
   "execution_count": 58,
   "id": "5f2a1258",
   "metadata": {
    "ExecuteTime": {
     "end_time": "2023-05-17T11:02:00.013716Z",
     "start_time": "2023-05-17T11:01:59.470995Z"
    },
    "hidden": true
   },
   "outputs": [],
   "source": [
    "import jupyros as jr\n",
    "import rospy\n",
    "import ipywidgets as widgets\n",
    "from ipywidgets import Button, Layout, ButtonStyle, GridBox, VBox, HBox\n",
    "from matplotlib import pyplot as plt\n",
    "\n",
    "import actionlib\n",
    "import actionlib.msg\n",
    "import assignment_2_2022.msg\n",
    "from nav_msgs.msg import Odometry\n",
    "from assignment_2_2022.msg import Pos_and_Vel\n",
    "from assignment_2_2022.srv import Num_Goal_rc, Num_Goal_rcResponse\n",
    "from sensor_msgs.msg import LaserScan\n",
    "\n",
    "\n",
    "import tf\n",
    "from tf.transformations import quaternion_matrix\n",
    "import numpy as np\n",
    "from matplotlib.animation import FuncAnimation\n"
   ]
  },
  {
   "cell_type": "markdown",
   "id": "c2d6431d",
   "metadata": {
    "heading_collapsed": true
   },
   "source": [
    "# Variables and initialization Node A"
   ]
  },
  {
   "cell_type": "code",
   "execution_count": 59,
   "id": "96aa2ae1",
   "metadata": {
    "ExecuteTime": {
     "end_time": "2023-05-17T11:02:08.152926Z",
     "start_time": "2023-05-17T11:02:08.107924Z"
    },
    "hidden": true
   },
   "outputs": [],
   "source": [
    "global goal\n",
    "global client\n",
    "global publisher\n",
    "global msg\n",
    "global num_c\n",
    "global num_r\n",
    "\n",
    "#initialize the node\n",
    "rospy.init_node('RT2_nodeA')"
   ]
  },
  {
   "cell_type": "markdown",
   "id": "6f62ee5c",
   "metadata": {},
   "source": [
    "# Set Publisher  on the topic /pos_and_vel"
   ]
  },
  {
   "cell_type": "code",
   "execution_count": 60,
   "id": "0025a62e",
   "metadata": {
    "ExecuteTime": {
     "end_time": "2023-05-17T11:02:22.349619Z",
     "start_time": "2023-05-17T11:02:22.292867Z"
    }
   },
   "outputs": [],
   "source": [
    "publisher = rospy.Publisher(\"/pos_and_vel\", Pos_and_Vel, queue_size = 10)"
   ]
  },
  {
   "cell_type": "markdown",
   "id": "cdee5e25",
   "metadata": {},
   "source": [
    "# Callback function"
   ]
  },
  {
   "cell_type": "code",
   "execution_count": 61,
   "id": "5205e512",
   "metadata": {
    "ExecuteTime": {
     "end_time": "2023-05-17T11:02:25.938354Z",
     "start_time": "2023-05-17T11:02:25.858868Z"
    }
   },
   "outputs": [],
   "source": [
    "def callback(msg):\n",
    "    \n",
    "    pos_vel = Pos_and_Vel()\n",
    "    \n",
    "    pos_vel.pos_x = msg.pose.pose.position.x\n",
    "    pos_vel.pos_y = msg.pose.pose.position.y\n",
    "    pos_vel.vel_x = msg.twist.twist.linear.x\n",
    "    pos_vel.vel_y = msg.twist.twist.linear.y\n",
    "    \n",
    "    publisher.publish(pos_vel)"
   ]
  },
  {
   "cell_type": "markdown",
   "id": "5c2e6982",
   "metadata": {},
   "source": [
    "# Set Subscriber to the topic /odom"
   ]
  },
  {
   "cell_type": "code",
   "execution_count": 62,
   "id": "68c37471",
   "metadata": {
    "ExecuteTime": {
     "end_time": "2023-05-17T11:02:31.121068Z",
     "start_time": "2023-05-17T11:02:30.131236Z"
    }
   },
   "outputs": [
    {
     "name": "stderr",
     "output_type": "stream",
     "text": [
      "Removing previous callback, only one redirection possible right now\n"
     ]
    },
    {
     "data": {
      "application/vnd.jupyter.widget-view+json": {
       "model_id": "c2b8c2d591734b4781359188131a6653",
       "version_major": 2,
       "version_minor": 0
      },
      "text/plain": [
       "VBox(children=(HBox(children=(Button(description='Stop', style=ButtonStyle()),)), Output(layout=Layout(border=…"
      ]
     },
     "metadata": {},
     "output_type": "display_data"
    }
   ],
   "source": [
    "jr.subscribe(\"/odom\", Odometry, callback)"
   ]
  },
  {
   "cell_type": "markdown",
   "id": "a7af07ae",
   "metadata": {},
   "source": [
    "# Set Action Client "
   ]
  },
  {
   "cell_type": "code",
   "execution_count": 63,
   "id": "7da96553",
   "metadata": {
    "ExecuteTime": {
     "end_time": "2023-05-17T11:02:36.039763Z",
     "start_time": "2023-05-17T11:02:35.688825Z"
    }
   },
   "outputs": [
    {
     "data": {
      "text/plain": [
       "True"
      ]
     },
     "execution_count": 63,
     "metadata": {},
     "output_type": "execute_result"
    }
   ],
   "source": [
    "client = actionlib.SimpleActionClient('/reaching_goal', assignment_2_2022.msg.PlanningAction)\n",
    "\n",
    "#wait for server\n",
    "client.wait_for_server()"
   ]
  },
  {
   "cell_type": "markdown",
   "id": "71ae7a3d",
   "metadata": {},
   "source": [
    "# Widgets interface for setting/canceling goal"
   ]
  },
  {
   "cell_type": "code",
   "execution_count": 64,
   "id": "2b49c8f6",
   "metadata": {
    "ExecuteTime": {
     "end_time": "2023-05-17T11:02:41.236808Z",
     "start_time": "2023-05-17T11:02:40.155962Z"
    },
    "scrolled": false
   },
   "outputs": [
    {
     "data": {
      "application/vnd.jupyter.widget-view+json": {
       "model_id": "2bb0444de24f497496e5b33befc608e1",
       "version_major": 2,
       "version_minor": 0
      },
      "text/plain": [
       "HBox(children=(VBox(children=(FloatSlider(value=0.0, description='x:', max=10.0, min=-10.0, step=0.5), FloatSl…"
      ]
     },
     "metadata": {},
     "output_type": "display_data"
    }
   ],
   "source": [
    "goal = assignment_2_2022.msg.PlanningGoal()\n",
    "\n",
    "# Goal coordinates\n",
    "x = widgets.FloatSlider(value=0 ,min=-10, max=10,step=0.5, description = \"x:\", orientation='horizontal')\n",
    "y = widgets.FloatSlider(value=0 ,min=-10, max=10,step=0.5, description = \"y:\", orientation='horizontal')\n",
    "\n",
    "# Widgets Buttons\n",
    "send_button = Button(description='Send goal',tooltip='Send goal',layout=Layout(width='50%', height='100px', grid_area='b1'),button_style='info')\n",
    "cancel_button = Button(description='Cancel goal',tooltip='Cancel goal',layout=Layout(width='50%',height='100px', grid_area='b2'),button_style='danger')\n",
    "\n",
    "\n",
    "# if send button is clicked \n",
    "def on_button_send_clicked(b):\n",
    "    \n",
    "    goal.target_pose.pose.position.x = x.value\n",
    "    goal.target_pose.pose.position.y = y.value\n",
    "    \n",
    "    #update goal list\n",
    "    goal_list.value = goal_list.value + \"Goal x: \" + str(x.value) + \"  y: \" + str(y.value) + \"\\n\"\n",
    "    \n",
    "    #send the goal returned by set_goal()\n",
    "    client.send_goal(goal)\n",
    "    \n",
    "    x.disabled = True\n",
    "    y.disabled = True\n",
    "    send_button.disabled = True\n",
    "    cancel_button.disabled = False\n",
    "    \n",
    "\n",
    "send_button.on_click(on_button_send_clicked)\n",
    "\n",
    "\n",
    "def on_cancel_button_clicked(b):\n",
    "    client.cancel_goal()\n",
    "    \n",
    "cancel_button.on_click(on_cancel_button_clicked)\n",
    "        \n",
    "\n",
    "widgets.HBox([widgets.VBox([x, y]), widgets.HBox([send_button, cancel_button])])\n",
    "\n"
   ]
  },
  {
   "cell_type": "markdown",
   "id": "38d1a935",
   "metadata": {},
   "source": [
    "# Result"
   ]
  },
  {
   "cell_type": "code",
   "execution_count": 65,
   "id": "aed4a4a1",
   "metadata": {
    "ExecuteTime": {
     "end_time": "2023-05-17T11:02:45.351261Z",
     "start_time": "2023-05-17T11:02:45.197469Z"
    }
   },
   "outputs": [
    {
     "data": {
      "application/vnd.jupyter.widget-view+json": {
       "model_id": "424403f1f5b445e8a87a282e5f1e5aeb",
       "version_major": 2,
       "version_minor": 0
      },
      "text/plain": [
       "Textarea(value='Goal list:\\n', disabled=True)"
      ]
     },
     "metadata": {},
     "output_type": "display_data"
    }
   ],
   "source": [
    "goal_list = widgets.Textarea(value = \"Goal list:\\n\", disabled = True, style = dict(text_color = 'red') )\n",
    "\n",
    "display(goal_list)"
   ]
  },
  {
   "cell_type": "code",
   "execution_count": 66,
   "id": "5d3cf045",
   "metadata": {
    "ExecuteTime": {
     "end_time": "2023-05-17T11:02:46.919869Z",
     "start_time": "2023-05-17T11:02:46.916683Z"
    }
   },
   "outputs": [],
   "source": [
    "# inizialization\n",
    "#num_r, num_c = 0,0"
   ]
  },
  {
   "cell_type": "code",
   "execution_count": 67,
   "id": "5e61bfa4",
   "metadata": {
    "ExecuteTime": {
     "end_time": "2023-05-17T11:02:48.915832Z",
     "start_time": "2023-05-17T11:02:48.909242Z"
    }
   },
   "outputs": [],
   "source": [
    "def update_num(num_r, num_c):\n",
    "    \n",
    "    goal_list.value = goal_list.value +  str(num_c)+ \"  Goal cancelled!\\n\"\n",
    "    goal_list.value = goal_list.value +  str(num_r)+ \"  Goal reached!\\n\""
   ]
  },
  {
   "cell_type": "code",
   "execution_count": 68,
   "id": "0ab043db",
   "metadata": {
    "ExecuteTime": {
     "end_time": "2023-05-17T11:02:50.955244Z",
     "start_time": "2023-05-17T11:02:50.916855Z"
    }
   },
   "outputs": [],
   "source": [
    "\n",
    "\n",
    "def checkGoalResult(msg):\n",
    "    global num_c, num_r\n",
    "    \n",
    "    # Get the status \n",
    "    status = msg.status.status\n",
    "\n",
    "    # If status is 2 the goal is canceled\n",
    "    if status == 2:\n",
    "        \n",
    "        num_c = num_c + 1\n",
    "        \n",
    "        x.disabled = False\n",
    "        y.disabled = False\n",
    "        \n",
    "        send_button.disabled = False\n",
    "        cancel_button.disabled = True\n",
    "        \n",
    "        goal_list.value = goal_list.value +  str(num_c)+ \"    Goal cancelled!\\n\"\n",
    "        \n",
    "        #update_num()\n",
    "\n",
    "    # If status is 3 the goal is reached\n",
    "    elif status == 3:\n",
    "        \n",
    "        num_r = num_r + 1\n",
    "        \n",
    "        x.disabled = False\n",
    "        y.disabled = False\n",
    "        \n",
    "        send_button.disabled = False\n",
    "        cancel_button.disabled = True\n",
    "        \n",
    "        goal_list.value = goal_list.value +  str(num_r) + \"    Goal reached!\\n\"\n",
    "        \n",
    "        num_r += 1\n",
    "        \n",
    "        #update_num()\n",
    "\n",
    "    update_num(num_r, num_c)\n",
    "    \n",
    "num_r, num_c = 0,0"
   ]
  },
  {
   "cell_type": "markdown",
   "id": "a1112947",
   "metadata": {
    "heading_collapsed": true
   },
   "source": [
    "# Set Subscriber for result"
   ]
  },
  {
   "cell_type": "code",
   "execution_count": 69,
   "id": "d1c4e03a",
   "metadata": {
    "ExecuteTime": {
     "end_time": "2023-05-17T11:02:54.579179Z",
     "start_time": "2023-05-17T11:02:54.131983Z"
    },
    "hidden": true
   },
   "outputs": [
    {
     "name": "stderr",
     "output_type": "stream",
     "text": [
      "Removing previous callback, only one redirection possible right now\n"
     ]
    },
    {
     "data": {
      "application/vnd.jupyter.widget-view+json": {
       "model_id": "e9e6b4fdea414634bac47fba2e69cc6b",
       "version_major": 2,
       "version_minor": 0
      },
      "text/plain": [
       "VBox(children=(HBox(children=(Button(description='Stop', style=ButtonStyle()),)), Output(layout=Layout(border=…"
      ]
     },
     "metadata": {},
     "output_type": "display_data"
    }
   ],
   "source": [
    "jr.subscribe(\"/reaching_goal/result\", assignment_2_2022.msg.PlanningActionResult, checkGoalResult)"
   ]
  },
  {
   "cell_type": "markdown",
   "id": "d69e2439",
   "metadata": {},
   "source": [
    "# Live pos and vel"
   ]
  },
  {
   "cell_type": "code",
   "execution_count": 70,
   "id": "105dc0e2",
   "metadata": {
    "ExecuteTime": {
     "end_time": "2023-05-17T11:03:00.652480Z",
     "start_time": "2023-05-17T11:02:59.613358Z"
    }
   },
   "outputs": [
    {
     "data": {
      "application/vnd.jupyter.widget-view+json": {
       "model_id": "4182720945f1479b9d3ba1e5b3280064",
       "version_major": 2,
       "version_minor": 0
      },
      "text/plain": [
       "HBox(children=(VBox(children=(FloatText(value=0.0, description='Pos x:', disabled=True), FloatText(value=0.0, …"
      ]
     },
     "metadata": {},
     "output_type": "display_data"
    }
   ],
   "source": [
    "posx = widgets.FloatText(description = \"Pos x:\", disabled = True)\n",
    "posy = widgets.FloatText(description = \"Pos y:\", disabled = True)\n",
    "velx = widgets.FloatText(description = \"Vel x:\", disabled = True)\n",
    "vely = widgets.FloatText(description = \"Vel y:\", disabled = True)\n",
    "    \n",
    "widgets.HBox([widgets.VBox([posx, posy]), widgets.VBox([velx, vely])])"
   ]
  },
  {
   "cell_type": "markdown",
   "id": "346f618c",
   "metadata": {
    "heading_collapsed": true
   },
   "source": [
    "# Data Visualization functions"
   ]
  },
  {
   "cell_type": "code",
   "execution_count": 71,
   "id": "f2d334fe",
   "metadata": {
    "ExecuteTime": {
     "end_time": "2023-05-17T11:03:07.050804Z",
     "start_time": "2023-05-17T11:03:06.809897Z"
    },
    "hidden": true
   },
   "outputs": [],
   "source": [
    "class Visualiser:\n",
    "    def __init__(self):\n",
    "        self.fig, self.ax = plt.subplots()\n",
    "        self.ln, = plt.plot([], [], 'ro')\n",
    "        self.x_data, self.y_data = [] , []\n",
    "    def plot_init(self):\n",
    "        self.ax.set_xlim(-10, 10)\n",
    "        self.ax.set_ylim(-10, 10)\n",
    "        return self.ln\n",
    "    def vis_callback(self, data):\n",
    "        self.y_data.append(data.pos_y)\n",
    "        self.x_data.append(data.pos_x)\n",
    "        posx.value = data.pos_x\n",
    "        posy.value = data.pos_y\n",
    "        velx.value = data.vel_x\n",
    "        vely.value = data.vel_y\n",
    "        \n",
    "    def update_plot(self, frame):\n",
    "        self.ln.set_data(self.x_data, self.y_data)\n",
    "        return self.ln"
   ]
  },
  {
   "cell_type": "markdown",
   "id": "71eecf68",
   "metadata": {},
   "source": [
    "# Visualize Data"
   ]
  },
  {
   "cell_type": "code",
   "execution_count": 72,
   "id": "32affcaa",
   "metadata": {
    "ExecuteTime": {
     "end_time": "2023-05-17T11:03:21.187056Z",
     "start_time": "2023-05-17T11:03:11.210323Z"
    }
   },
   "outputs": [
    {
     "data": {
      "application/vnd.jupyter.widget-view+json": {
       "model_id": "48b64f0212154e7a92d5414cb00b7ea1",
       "version_major": 2,
       "version_minor": 0
      },
      "text/plain": [
       "Canvas(toolbar=Toolbar(toolitems=[('Home', 'Reset original view', 'home', 'home'), ('Back', 'Back to previous …"
      ]
     },
     "metadata": {},
     "output_type": "display_data"
    }
   ],
   "source": [
    "get_ipython().run_line_magic('matplotlib', 'widget')\n",
    "vis = Visualiser()\n",
    "sub = jr.subscribe('/pos_and_vel', Pos_and_Vel, vis.vis_callback)\n",
    "\n",
    "ani = FuncAnimation(vis.fig, vis.update_plot, init_func=vis.plot_init)\n",
    "plt.show(block=True)"
   ]
  },
  {
   "cell_type": "markdown",
   "id": "35765494",
   "metadata": {
    "heading_collapsed": true
   },
   "source": [
    "# Laser function"
   ]
  },
  {
   "cell_type": "code",
   "execution_count": 73,
   "id": "f9cde5d1",
   "metadata": {
    "ExecuteTime": {
     "end_time": "2023-05-17T11:03:24.095383Z",
     "start_time": "2023-05-17T11:03:23.764911Z"
    },
    "hidden": true
   },
   "outputs": [
    {
     "data": {
      "application/vnd.jupyter.widget-view+json": {
       "model_id": "ab801682ca8945ad9f6b9a3997e1d90a",
       "version_major": 2,
       "version_minor": 0
      },
      "text/plain": [
       "HBox(children=(FloatText(value=0.0, description='Distance:', disabled=True), FloatText(value=0.0, description=…"
      ]
     },
     "metadata": {},
     "output_type": "display_data"
    }
   ],
   "source": [
    "rmin = widgets.FloatText(description = \"Distance:\", disabled = True)\n",
    "ang = widgets.FloatText(description = \"Angle:\", disabled = True)\n",
    "\n",
    "def laserCallback(scan):\n",
    "    min_range = 100\n",
    "    angle = 100\n",
    "    for at, x in enumerate(scan.ranges):\n",
    "        if x < min_range and x > scan.range_min:\n",
    "            min_range = x\n",
    "            angle = scan.angle_min + scan.angle_increment * at\n",
    "    \n",
    "    rmin.value = min_range\n",
    "    ang.value = angle\n",
    "    \n",
    "widgets.HBox([rmin, ang], description = \"Distance from obstacle\")"
   ]
  },
  {
   "cell_type": "markdown",
   "id": "4d18efa5",
   "metadata": {},
   "source": [
    "# Set Subscriber to topic /scan"
   ]
  },
  {
   "cell_type": "code",
   "execution_count": 74,
   "id": "c7264d2a",
   "metadata": {
    "ExecuteTime": {
     "end_time": "2023-05-17T11:03:31.388281Z",
     "start_time": "2023-05-17T11:03:30.729929Z"
    }
   },
   "outputs": [
    {
     "data": {
      "application/vnd.jupyter.widget-view+json": {
       "model_id": "078831160d0a48c18fca230e28696677",
       "version_major": 2,
       "version_minor": 0
      },
      "text/plain": [
       "VBox(children=(HBox(children=(Button(description='Stop', style=ButtonStyle()),)), Output(layout=Layout(border=…"
      ]
     },
     "metadata": {},
     "output_type": "display_data"
    }
   ],
   "source": [
    "jr.subscribe('/scan', LaserScan, laserCallback)"
   ]
  },
  {
   "cell_type": "markdown",
   "id": "b8929ee5",
   "metadata": {
    "heading_collapsed": true
   },
   "source": [
    "# Display obstacle distance with laser"
   ]
  },
  {
   "cell_type": "code",
   "execution_count": 75,
   "id": "92d7d1ce",
   "metadata": {
    "ExecuteTime": {
     "end_time": "2023-05-17T11:03:42.004913Z",
     "start_time": "2023-05-17T11:03:41.982013Z"
    },
    "hidden": true,
    "scrolled": true
   },
   "outputs": [],
   "source": [
    "#get_ipython().run_line_magic('matplotlib', 'widget')\n",
    "\n",
    "#button_update = widgets.Button(description = \"Update graph!\", button_style = \"success\")\n",
    "\n",
    "#def on_button_update_clicked(b):\n",
    "#    plt.figure(2)\n",
    " #   line1, = plt.plot(reached_list, label=\"Reached\", color = 'green')\n",
    " #   line2, = plt.plot(not_reached_list, label=\"Not-Reached\", color = 'red')\n",
    "    # Create a legend for the first line.\n",
    " #   first_legend = plt.legend(handles=[line1], loc='lower left')\n",
    "# Add the legend manually to the current Axes.\n",
    "  #  plt.gca().add_artist(first_legend)\n",
    "    # Create another legend for the second line.\n",
    "  #  plt.legend(handles=[line2], loc='lower right')\n",
    " #plt.show()\n",
    "    \n",
    "#button_update.on_click(on_button_update_clicked)\n",
    "#display(button_update)"
   ]
  },
  {
   "cell_type": "code",
   "execution_count": null,
   "id": "d605fb08",
   "metadata": {
    "hidden": true
   },
   "outputs": [],
   "source": []
  },
  {
   "cell_type": "code",
   "execution_count": null,
   "id": "b93f968d",
   "metadata": {
    "hidden": true
   },
   "outputs": [],
   "source": []
  }
 ],
 "metadata": {
  "kernelspec": {
   "display_name": "Python 3 (ipykernel)",
   "language": "python",
   "name": "python3"
  },
  "language_info": {
   "codemirror_mode": {
    "name": "ipython",
    "version": 3
   },
   "file_extension": ".py",
   "mimetype": "text/x-python",
   "name": "python",
   "nbconvert_exporter": "python",
   "pygments_lexer": "ipython3",
   "version": "3.8.5"
  },
  "toc": {
   "base_numbering": 1,
   "nav_menu": {},
   "number_sections": true,
   "sideBar": true,
   "skip_h1_title": false,
   "title_cell": "Table of Contents",
   "title_sidebar": "Contents",
   "toc_cell": false,
   "toc_position": {},
   "toc_section_display": true,
   "toc_window_display": false
  },
  "varInspector": {
   "cols": {
    "lenName": 16,
    "lenType": 16,
    "lenVar": 40
   },
   "kernels_config": {
    "python": {
     "delete_cmd_postfix": "",
     "delete_cmd_prefix": "del ",
     "library": "var_list.py",
     "varRefreshCmd": "print(var_dic_list())"
    },
    "r": {
     "delete_cmd_postfix": ") ",
     "delete_cmd_prefix": "rm(",
     "library": "var_list.r",
     "varRefreshCmd": "cat(var_dic_list()) "
    }
   },
   "types_to_exclude": [
    "module",
    "function",
    "builtin_function_or_method",
    "instance",
    "_Feature"
   ],
   "window_display": false
  }
 },
 "nbformat": 4,
 "nbformat_minor": 5
}
