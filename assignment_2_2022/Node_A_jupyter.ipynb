{
 "cells": [
  {
   "cell_type": "markdown",
   "id": "366240a2",
   "metadata": {
    "heading_collapsed": true
   },
   "source": [
    "# Import libraries"
   ]
  },
  {
   "cell_type": "code",
   "execution_count": 1,
   "id": "5f2a1258",
   "metadata": {
    "ExecuteTime": {
     "end_time": "2023-05-17T09:55:44.935230Z",
     "start_time": "2023-05-17T09:55:22.622694Z"
    },
    "hidden": true
   },
   "outputs": [],
   "source": [
    "import jupyros as jr\n",
    "import rospy\n",
    "import ipywidgets as widgets\n",
    "from ipywidgets import Button, Layout, ButtonStyle, GridBox, VBox, HBox\n",
    "from matplotlib import pyplot as plt\n",
    "\n",
    "import actionlib\n",
    "import actionlib.msg\n",
    "import assignment_2_2022.msg\n",
    "from nav_msgs.msg import Odometry\n",
    "from assignment_2_2022.msg import Pos_and_Vel\n",
    "from assignment_2_2022.srv import Num_Goal_rc, Num_Goal_rcResponse\n",
    "from sensor_msgs.msg import LaserScan\n",
    "\n",
    "\n",
    "import tf\n",
    "from tf.transformations import quaternion_matrix\n",
    "import numpy as np\n",
    "from matplotlib.animation import FuncAnimation\n"
   ]
  },
  {
   "cell_type": "markdown",
   "id": "c2d6431d",
   "metadata": {
    "heading_collapsed": true
   },
   "source": [
    "# Variables and initialization Node A"
   ]
  },
  {
   "cell_type": "code",
   "execution_count": 15,
   "id": "96aa2ae1",
   "metadata": {
    "ExecuteTime": {
     "end_time": "2023-05-17T10:04:07.251993Z",
     "start_time": "2023-05-17T10:04:07.196807Z"
    },
    "hidden": true
   },
   "outputs": [],
   "source": [
    "global goal\n",
    "global client\n",
    "global publisher\n",
    "global msg\n",
    "global num_c\n",
    "global num_r\n",
    "\n",
    "#initialize the node\n",
    "rospy.init_node('RT2_nodeA')"
   ]
  },
  {
   "cell_type": "markdown",
   "id": "6f62ee5c",
   "metadata": {
    "heading_collapsed": true
   },
   "source": [
    "# Set Publisher  on the topic /pos_and_vel"
   ]
  },
  {
   "cell_type": "code",
   "execution_count": 3,
   "id": "0025a62e",
   "metadata": {
    "ExecuteTime": {
     "end_time": "2023-05-17T09:56:03.459096Z",
     "start_time": "2023-05-17T09:56:03.230143Z"
    },
    "hidden": true
   },
   "outputs": [],
   "source": [
    "publisher = rospy.Publisher(\"/pos_and_vel\", Pos_and_Vel, queue_size = 10)"
   ]
  },
  {
   "cell_type": "markdown",
   "id": "cdee5e25",
   "metadata": {
    "heading_collapsed": true
   },
   "source": [
    "# Callback function"
   ]
  },
  {
   "cell_type": "code",
   "execution_count": 4,
   "id": "5205e512",
   "metadata": {
    "ExecuteTime": {
     "end_time": "2023-05-17T09:56:12.612547Z",
     "start_time": "2023-05-17T09:56:12.561842Z"
    },
    "hidden": true
   },
   "outputs": [],
   "source": [
    "def callback(msg):\n",
    "    \n",
    "    pos_vel = Pos_and_Vel()\n",
    "    \n",
    "    pos_vel.pos_x = msg.pose.pose.position.x\n",
    "    pos_vel.pos_y = msg.pose.pose.position.y\n",
    "    pos_vel.vel_x = msg.twist.twist.linear.x\n",
    "    pos_vel.vel_y = msg.twist.twist.linear.y\n",
    "    \n",
    "    publisher.publish(pos_vel)"
   ]
  },
  {
   "cell_type": "markdown",
   "id": "5c2e6982",
   "metadata": {
    "heading_collapsed": true
   },
   "source": [
    "# Set Subscriber to the topic /odom"
   ]
  },
  {
   "cell_type": "code",
   "execution_count": 5,
   "id": "68c37471",
   "metadata": {
    "ExecuteTime": {
     "end_time": "2023-05-17T09:56:19.937959Z",
     "start_time": "2023-05-17T09:56:19.664665Z"
    },
    "hidden": true
   },
   "outputs": [
    {
     "data": {
      "application/vnd.jupyter.widget-view+json": {
       "model_id": "90c8fd348fd94dbcb706bc891599dcfc",
       "version_major": 2,
       "version_minor": 0
      },
      "text/plain": [
       "VBox(children=(HBox(children=(Button(description='Stop', style=ButtonStyle()),)), Output(layout=Layout(border=…"
      ]
     },
     "metadata": {},
     "output_type": "display_data"
    }
   ],
   "source": [
    "jr.subscribe(\"/odom\", Odometry, callback)"
   ]
  },
  {
   "cell_type": "markdown",
   "id": "a7af07ae",
   "metadata": {
    "heading_collapsed": true
   },
   "source": [
    "# Set Action Client "
   ]
  },
  {
   "cell_type": "code",
   "execution_count": 6,
   "id": "7da96553",
   "metadata": {
    "ExecuteTime": {
     "end_time": "2023-05-17T09:56:28.083618Z",
     "start_time": "2023-05-17T09:56:27.419208Z"
    },
    "hidden": true
   },
   "outputs": [
    {
     "data": {
      "text/plain": [
       "True"
      ]
     },
     "execution_count": 6,
     "metadata": {},
     "output_type": "execute_result"
    }
   ],
   "source": [
    "client = actionlib.SimpleActionClient('/reaching_goal', assignment_2_2022.msg.PlanningAction)\n",
    "\n",
    "#wait for server\n",
    "client.wait_for_server()"
   ]
  },
  {
   "cell_type": "markdown",
   "id": "71ae7a3d",
   "metadata": {},
   "source": [
    "# Widgets interface for setting/canceling goal"
   ]
  },
  {
   "cell_type": "code",
   "execution_count": 35,
   "id": "2b49c8f6",
   "metadata": {
    "ExecuteTime": {
     "end_time": "2023-05-17T10:35:17.956832Z",
     "start_time": "2023-05-17T10:35:17.196766Z"
    },
    "scrolled": false
   },
   "outputs": [
    {
     "data": {
      "application/vnd.jupyter.widget-view+json": {
       "model_id": "34f8956001a546b3b2a0dabb497bd587",
       "version_major": 2,
       "version_minor": 0
      },
      "text/plain": [
       "HBox(children=(VBox(children=(FloatSlider(value=0.0, description='x:', max=10.0, min=-10.0, step=0.5), FloatSl…"
      ]
     },
     "metadata": {},
     "output_type": "display_data"
    },
    {
     "name": "stderr",
     "output_type": "stream",
     "text": [
      "[ERROR] [1684319750.225538, 2288.253000]: bad callback: <function checkGoalResult at 0x7f27d0e92700>\n",
      "Traceback (most recent call last):\n",
      "  File \"/opt/ros/noetic/lib/python3/dist-packages/rospy/topics.py\", line 750, in _invoke_callback\n",
      "    cb(msg)\n",
      "  File \"/tmp/ipykernel_6386/2058080425.py\", line 36, in checkGoalResult\n",
      "    num_r = num_r + 1\n",
      "UnboundLocalError: local variable 'num_r' referenced before assignment\n",
      "\n"
     ]
    }
   ],
   "source": [
    "goal = assignment_2_2022.msg.PlanningGoal()\n",
    "\n",
    "# Goal coordinates\n",
    "x = widgets.FloatSlider(value=0 ,min=-10, max=10,step=0.5, description = \"x:\", orientation='horizontal')\n",
    "y = widgets.FloatSlider(value=0 ,min=-10, max=10,step=0.5, description = \"y:\", orientation='horizontal')\n",
    "\n",
    "# Widgets Buttons\n",
    "send_button = Button(description='Send goal',tooltip='Send goal',layout=Layout(width='50%', height='100px', grid_area='b1'),button_style='info')\n",
    "cancel_button = Button(description='Cancel goal',tooltip='Cancel goal',layout=Layout(width='50%',height='100px', grid_area='b2'),button_style='danger')\n",
    "\n",
    "\n",
    "# if send button is clicked \n",
    "def on_button_send_clicked(b):\n",
    "    \n",
    "    goal.target_pose.pose.position.x = x.value\n",
    "    goal.target_pose.pose.position.y = y.value\n",
    "    \n",
    "    #update goal list\n",
    "    goal_list.value = goal_list.value + \"Goal x: \" + str(x.value) + \"  y: \" + str(y.value) + \"\\n\"\n",
    "    \n",
    "    #send the goal returned by set_goal()\n",
    "    client.send_goal(goal)\n",
    "    \n",
    "    x.disabled = True\n",
    "    y.disabled = True\n",
    "    send_button.disabled = True\n",
    "    cancel_button.disabled = False\n",
    "    \n",
    "\n",
    "send_button.on_click(on_button_send_clicked)\n",
    "\n",
    "\n",
    "def on_cancel_button_clicked(b):\n",
    "    client.cancel_goal()\n",
    "    \n",
    "cancel_button.on_click(on_cancel_button_clicked)\n",
    "        \n",
    "\n",
    "widgets.HBox([widgets.VBox([x, y]), widgets.HBox([send_button, cancel_button])])\n",
    "\n"
   ]
  },
  {
   "cell_type": "markdown",
   "id": "38d1a935",
   "metadata": {},
   "source": [
    "# Result"
   ]
  },
  {
   "cell_type": "code",
   "execution_count": 31,
   "id": "aed4a4a1",
   "metadata": {
    "ExecuteTime": {
     "end_time": "2023-05-17T10:33:30.883121Z",
     "start_time": "2023-05-17T10:33:30.627007Z"
    }
   },
   "outputs": [
    {
     "data": {
      "application/vnd.jupyter.widget-view+json": {
       "model_id": "72b2e329c6cb4ed3a04076444920754b",
       "version_major": 2,
       "version_minor": 0
      },
      "text/plain": [
       "Textarea(value='Goal list:\\n', disabled=True)"
      ]
     },
     "metadata": {},
     "output_type": "display_data"
    }
   ],
   "source": [
    "goal_list = widgets.Textarea(value = \"Goal list:\\n\", disabled = True, style = dict(text_color = 'red') )\n",
    "\n",
    "display(goal_list)"
   ]
  },
  {
   "cell_type": "code",
   "execution_count": 34,
   "id": "0ab043db",
   "metadata": {
    "ExecuteTime": {
     "end_time": "2023-05-17T10:34:54.244367Z",
     "start_time": "2023-05-17T10:34:54.102007Z"
    }
   },
   "outputs": [],
   "source": [
    "num_r = 0\n",
    "num_c = 0\n",
    "\n",
    "# inizialization\n",
    "update_num()\n",
    "\n",
    "def update_num():\n",
    "    goal_list.value = goal_list.value +  str(num_c)+ \"  Goal cancelled!\\n\"\n",
    "    goal_list.value = goal_list.value +  str(num_r)+ \"  Goal reached!\\n\"\n",
    "\n",
    "\n",
    "\n",
    "def checkGoalResult(msg):\n",
    "    \n",
    "    \n",
    "    # Get the status \n",
    "    status = msg.status.status\n",
    "\n",
    "    # If status is 2 the goal is canceled\n",
    "    if status == 2:\n",
    "        \n",
    "        num_c = num_c + 1\n",
    "        \n",
    "        x.disabled = False\n",
    "        y.disabled = False\n",
    "        \n",
    "        send_button.disabled = False\n",
    "        cancel_button.disabled = True\n",
    "        \n",
    "        goal_list.value = goal_list.value +  str(num_c)+ \"    Goal cancelled!\\n\"\n",
    "        \n",
    "        update_num()\n",
    "\n",
    "    # If status is 3 the goal is reached\n",
    "    elif status == 3:\n",
    "        \n",
    "        num_r = num_r + 1\n",
    "        \n",
    "        x.disabled = False\n",
    "        y.disabled = False\n",
    "        \n",
    "        send_button.disabled = False\n",
    "        cancel_button.disabled = True\n",
    "        \n",
    "        goal_list.value = goal_list.value +  str(num_r) + \"    Goal reached!\\n\"\n",
    "        \n",
    "        num_r += 1\n",
    "        \n",
    "        update_num()\n",
    "        "
   ]
  },
  {
   "cell_type": "markdown",
   "id": "a1112947",
   "metadata": {
    "heading_collapsed": true
   },
   "source": [
    "# Set Subscriber for result"
   ]
  },
  {
   "cell_type": "code",
   "execution_count": 9,
   "id": "d1c4e03a",
   "metadata": {
    "ExecuteTime": {
     "end_time": "2023-05-17T09:57:01.586781Z",
     "start_time": "2023-05-17T09:57:01.323786Z"
    },
    "hidden": true
   },
   "outputs": [
    {
     "data": {
      "application/vnd.jupyter.widget-view+json": {
       "model_id": "3879a8c41efa44768a9d227390fcf122",
       "version_major": 2,
       "version_minor": 0
      },
      "text/plain": [
       "VBox(children=(HBox(children=(Button(description='Stop', style=ButtonStyle()),)), Output(layout=Layout(border=…"
      ]
     },
     "metadata": {},
     "output_type": "display_data"
    }
   ],
   "source": [
    "jr.subscribe(\"/reaching_goal/result\", assignment_2_2022.msg.PlanningActionResult, checkGoalResult)"
   ]
  },
  {
   "cell_type": "markdown",
   "id": "d69e2439",
   "metadata": {
    "heading_collapsed": true
   },
   "source": [
    "# Live pos and vel"
   ]
  },
  {
   "cell_type": "code",
   "execution_count": 13,
   "id": "105dc0e2",
   "metadata": {
    "ExecuteTime": {
     "end_time": "2023-05-17T09:32:31.502287Z",
     "start_time": "2023-05-17T09:32:31.036442Z"
    },
    "hidden": true
   },
   "outputs": [
    {
     "data": {
      "application/vnd.jupyter.widget-view+json": {
       "model_id": "cbed48ca40a042308e0364b060db3a02",
       "version_major": 2,
       "version_minor": 0
      },
      "text/plain": [
       "HBox(children=(VBox(children=(FloatText(value=0.0, description='Pos x:', disabled=True), FloatText(value=0.0, …"
      ]
     },
     "metadata": {},
     "output_type": "display_data"
    }
   ],
   "source": [
    "posx = widgets.FloatText(description = \"Pos x:\", disabled = True)\n",
    "posy = widgets.FloatText(description = \"Pos y:\", disabled = True)\n",
    "velx = widgets.FloatText(description = \"Vel x:\", disabled = True)\n",
    "vely = widgets.FloatText(description = \"Vel y:\", disabled = True)\n",
    "    \n",
    "widgets.HBox([widgets.VBox([posx, posy]), widgets.VBox([velx, vely])])"
   ]
  },
  {
   "cell_type": "markdown",
   "id": "346f618c",
   "metadata": {
    "heading_collapsed": true
   },
   "source": [
    "# Data Visualization functions"
   ]
  },
  {
   "cell_type": "code",
   "execution_count": 14,
   "id": "f2d334fe",
   "metadata": {
    "ExecuteTime": {
     "end_time": "2023-05-17T09:32:37.530436Z",
     "start_time": "2023-05-17T09:32:37.334274Z"
    },
    "hidden": true
   },
   "outputs": [],
   "source": [
    "class Visualiser:\n",
    "    def __init__(self):\n",
    "        self.fig, self.ax = plt.subplots()\n",
    "        self.ln, = plt.plot([], [], 'ro')\n",
    "        self.x_data, self.y_data = [] , []\n",
    "    def plot_init(self):\n",
    "        self.ax.set_xlim(-10, 10)\n",
    "        self.ax.set_ylim(-10, 10)\n",
    "        return self.ln\n",
    "    def vis_callback(self, data):\n",
    "        self.y_data.append(data.pos_y)\n",
    "        self.x_data.append(data.pos_x)\n",
    "        posx.value = data.pos_x\n",
    "        posy.value = data.pos_y\n",
    "        velx.value = data.vel_x\n",
    "        vely.value = data.vel_y\n",
    "        \n",
    "    def update_plot(self, frame):\n",
    "        self.ln.set_data(self.x_data, self.y_data)\n",
    "        return self.ln"
   ]
  },
  {
   "cell_type": "markdown",
   "id": "71eecf68",
   "metadata": {
    "heading_collapsed": true
   },
   "source": [
    "# Visualize Data"
   ]
  },
  {
   "cell_type": "code",
   "execution_count": 15,
   "id": "32affcaa",
   "metadata": {
    "ExecuteTime": {
     "end_time": "2023-05-17T09:32:47.026504Z",
     "start_time": "2023-05-17T09:32:44.476539Z"
    },
    "hidden": true
   },
   "outputs": [
    {
     "data": {
      "application/vnd.jupyter.widget-view+json": {
       "model_id": "77705df03a254b48bd3894f03f65e253",
       "version_major": 2,
       "version_minor": 0
      },
      "text/plain": [
       "Canvas(toolbar=Toolbar(toolitems=[('Home', 'Reset original view', 'home', 'home'), ('Back', 'Back to previous …"
      ]
     },
     "metadata": {},
     "output_type": "display_data"
    }
   ],
   "source": [
    "get_ipython().run_line_magic('matplotlib', 'widget')\n",
    "vis = Visualiser()\n",
    "sub = jr.subscribe('/pos_and_vel', Pos_and_Vel, vis.vis_callback)\n",
    "\n",
    "ani = FuncAnimation(vis.fig, vis.update_plot, init_func=vis.plot_init)\n",
    "plt.show(block=True)"
   ]
  },
  {
   "cell_type": "markdown",
   "id": "35765494",
   "metadata": {
    "heading_collapsed": true
   },
   "source": [
    "# Laser function"
   ]
  },
  {
   "cell_type": "code",
   "execution_count": 17,
   "id": "f9cde5d1",
   "metadata": {
    "ExecuteTime": {
     "end_time": "2023-05-17T09:32:57.207660Z",
     "start_time": "2023-05-17T09:32:56.882263Z"
    },
    "hidden": true
   },
   "outputs": [
    {
     "data": {
      "application/vnd.jupyter.widget-view+json": {
       "model_id": "dc6595fe61de4a0a830ab96205be7060",
       "version_major": 2,
       "version_minor": 0
      },
      "text/plain": [
       "HBox(children=(FloatText(value=0.0, description='Distance:', disabled=True), FloatText(value=0.0, description=…"
      ]
     },
     "metadata": {},
     "output_type": "display_data"
    }
   ],
   "source": [
    "rmin = widgets.FloatText(description = \"Distance:\", disabled = True)\n",
    "ang = widgets.FloatText(description = \"Angle:\", disabled = True)\n",
    "\n",
    "def laserCallback(scan):\n",
    "    min_range = 100\n",
    "    angle = 100\n",
    "    for at, x in enumerate(scan.ranges):\n",
    "        if x < min_range and x > scan.range_min:\n",
    "            min_range = x\n",
    "            angle = scan.angle_min + scan.angle_increment * at\n",
    "    \n",
    "    rmin.value = min_range\n",
    "    ang.value = angle\n",
    "    \n",
    "widgets.HBox([rmin, ang], description = \"Distance from obstacle\")"
   ]
  },
  {
   "cell_type": "markdown",
   "id": "4d18efa5",
   "metadata": {
    "heading_collapsed": true
   },
   "source": [
    "# Set Subscriber to topic /scan"
   ]
  },
  {
   "cell_type": "code",
   "execution_count": 18,
   "id": "c7264d2a",
   "metadata": {
    "ExecuteTime": {
     "end_time": "2023-05-17T09:33:06.333368Z",
     "start_time": "2023-05-17T09:33:05.413286Z"
    },
    "hidden": true
   },
   "outputs": [
    {
     "data": {
      "application/vnd.jupyter.widget-view+json": {
       "model_id": "5d2f69a2d59848c7b9caa0a4751ea886",
       "version_major": 2,
       "version_minor": 0
      },
      "text/plain": [
       "VBox(children=(HBox(children=(Button(description='Stop', style=ButtonStyle()),)), Output(layout=Layout(border=…"
      ]
     },
     "metadata": {},
     "output_type": "display_data"
    }
   ],
   "source": [
    "jr.subscribe('/scan', LaserScan, laserCallback)"
   ]
  },
  {
   "cell_type": "markdown",
   "id": "b8929ee5",
   "metadata": {
    "heading_collapsed": true
   },
   "source": [
    "# Display obstacle distance with laser"
   ]
  },
  {
   "cell_type": "code",
   "execution_count": null,
   "id": "92d7d1ce",
   "metadata": {
    "ExecuteTime": {
     "start_time": "2023-05-16T17:26:54.573Z"
    },
    "hidden": true,
    "scrolled": true
   },
   "outputs": [],
   "source": [
    "#get_ipython().run_line_magic('matplotlib', 'widget')\n",
    "\n",
    "#button_update = widgets.Button(description = \"Update graph!\", button_style = \"success\")\n",
    "\n",
    "#def on_button_update_clicked(b):\n",
    "#    plt.figure(2)\n",
    " #   line1, = plt.plot(reached_list, label=\"Reached\", color = 'green')\n",
    " #   line2, = plt.plot(not_reached_list, label=\"Not-Reached\", color = 'red')\n",
    "    # Create a legend for the first line.\n",
    " #   first_legend = plt.legend(handles=[line1], loc='lower left')\n",
    "# Add the legend manually to the current Axes.\n",
    "  #  plt.gca().add_artist(first_legend)\n",
    "    # Create another legend for the second line.\n",
    "  #  plt.legend(handles=[line2], loc='lower right')\n",
    " #plt.show()\n",
    "    \n",
    "#button_update.on_click(on_button_update_clicked)\n",
    "#display(button_update)"
   ]
  },
  {
   "cell_type": "code",
   "execution_count": null,
   "id": "d605fb08",
   "metadata": {
    "hidden": true
   },
   "outputs": [],
   "source": []
  },
  {
   "cell_type": "code",
   "execution_count": null,
   "id": "b93f968d",
   "metadata": {
    "hidden": true
   },
   "outputs": [],
   "source": []
  }
 ],
 "metadata": {
  "kernelspec": {
   "display_name": "Python 3 (ipykernel)",
   "language": "python",
   "name": "python3"
  },
  "language_info": {
   "codemirror_mode": {
    "name": "ipython",
    "version": 3
   },
   "file_extension": ".py",
   "mimetype": "text/x-python",
   "name": "python",
   "nbconvert_exporter": "python",
   "pygments_lexer": "ipython3",
   "version": "3.8.5"
  },
  "toc": {
   "base_numbering": 1,
   "nav_menu": {},
   "number_sections": true,
   "sideBar": true,
   "skip_h1_title": false,
   "title_cell": "Table of Contents",
   "title_sidebar": "Contents",
   "toc_cell": false,
   "toc_position": {},
   "toc_section_display": true,
   "toc_window_display": false
  },
  "varInspector": {
   "cols": {
    "lenName": 16,
    "lenType": 16,
    "lenVar": 40
   },
   "kernels_config": {
    "python": {
     "delete_cmd_postfix": "",
     "delete_cmd_prefix": "del ",
     "library": "var_list.py",
     "varRefreshCmd": "print(var_dic_list())"
    },
    "r": {
     "delete_cmd_postfix": ") ",
     "delete_cmd_prefix": "rm(",
     "library": "var_list.r",
     "varRefreshCmd": "cat(var_dic_list()) "
    }
   },
   "types_to_exclude": [
    "module",
    "function",
    "builtin_function_or_method",
    "instance",
    "_Feature"
   ],
   "window_display": false
  }
 },
 "nbformat": 4,
 "nbformat_minor": 5
}
