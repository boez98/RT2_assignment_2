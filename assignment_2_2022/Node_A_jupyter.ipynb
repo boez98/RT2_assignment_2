{
 "cells": [
  {
   "cell_type": "markdown",
   "id": "366240a2",
   "metadata": {},
   "source": [
    "# Import libraries"
   ]
  },
  {
   "cell_type": "code",
   "execution_count": 10,
   "id": "5f2a1258",
   "metadata": {
    "ExecuteTime": {
     "end_time": "2023-05-16T10:21:26.135958Z",
     "start_time": "2023-05-16T10:21:24.197714Z"
    }
   },
   "outputs": [
    {
     "ename": "ImportError",
     "evalue": "cannot import name 'Pos_and_Vel' from 'assignment_2_2022.msg' (/root/ros_ws/devel/lib/python3/dist-packages/assignment_2_2022/msg/__init__.py)",
     "output_type": "error",
     "traceback": [
      "\u001b[0;31m---------------------------------------------------------------------------\u001b[0m",
      "\u001b[0;31mImportError\u001b[0m                               Traceback (most recent call last)",
      "\u001b[0;32m/tmp/ipykernel_8711/3587126596.py\u001b[0m in \u001b[0;36m<module>\u001b[0;34m\u001b[0m\n\u001b[1;32m      8\u001b[0m \u001b[0;32mimport\u001b[0m \u001b[0massignment_2_2022\u001b[0m\u001b[0;34m.\u001b[0m\u001b[0mmsg\u001b[0m\u001b[0;34m\u001b[0m\u001b[0;34m\u001b[0m\u001b[0m\n\u001b[1;32m      9\u001b[0m \u001b[0;32mfrom\u001b[0m \u001b[0mnav_msgs\u001b[0m\u001b[0;34m.\u001b[0m\u001b[0mmsg\u001b[0m \u001b[0;32mimport\u001b[0m \u001b[0mOdometry\u001b[0m\u001b[0;34m\u001b[0m\u001b[0;34m\u001b[0m\u001b[0m\n\u001b[0;32m---> 10\u001b[0;31m \u001b[0;32mfrom\u001b[0m \u001b[0massignment_2_2022\u001b[0m\u001b[0;34m.\u001b[0m\u001b[0mmsg\u001b[0m \u001b[0;32mimport\u001b[0m \u001b[0mPos_and_Vel\u001b[0m\u001b[0;34m\u001b[0m\u001b[0;34m\u001b[0m\u001b[0m\n\u001b[0m\u001b[1;32m     11\u001b[0m \u001b[0;32mfrom\u001b[0m \u001b[0massignment_2_2022\u001b[0m\u001b[0;34m.\u001b[0m\u001b[0msrv\u001b[0m \u001b[0;32mimport\u001b[0m \u001b[0mNum_Goal_rc\u001b[0m\u001b[0;34m,\u001b[0m \u001b[0mNum_Goal_rcResponse\u001b[0m\u001b[0;34m\u001b[0m\u001b[0;34m\u001b[0m\u001b[0m\n\u001b[1;32m     12\u001b[0m \u001b[0;32mfrom\u001b[0m \u001b[0msensor_msgs\u001b[0m\u001b[0;34m.\u001b[0m\u001b[0mmsg\u001b[0m \u001b[0;32mimport\u001b[0m \u001b[0mLaserScan\u001b[0m\u001b[0;34m\u001b[0m\u001b[0;34m\u001b[0m\u001b[0m\n",
      "\u001b[0;31mImportError\u001b[0m: cannot import name 'Pos_and_Vel' from 'assignment_2_2022.msg' (/root/ros_ws/devel/lib/python3/dist-packages/assignment_2_2022/msg/__init__.py)"
     ]
    }
   ],
   "source": [
    "import jupyros as jr\n",
    "import rospy\n",
    "import ipywidgets as widgets\n",
    "from matplotlib import pyplot as plt\n",
    "\n",
    "import actionlib\n",
    "import actionlib.msg\n",
    "import assignment_2_2022.msg\n",
    "from nav_msgs.msg import Odometry\n",
    "from assignment_2_2022.msg import Pos_and_Vel\n",
    "from assignment_2_2022.srv import Num_Goal_rc, Num_Goal_rcResponse\n",
    "from sensor_msgs.msg import LaserScan\n",
    "\n",
    "\n",
    "import tf\n",
    "from tf.transformations import quaternion_matrix\n",
    "import numpy as np\n",
    "from matplotlib.animation import FuncAnimation\n"
   ]
  },
  {
   "cell_type": "markdown",
   "id": "c2d6431d",
   "metadata": {},
   "source": [
    "# Variables and initialization Node A"
   ]
  },
  {
   "cell_type": "code",
   "execution_count": 11,
   "id": "96aa2ae1",
   "metadata": {
    "ExecuteTime": {
     "end_time": "2023-05-16T10:21:55.032983Z",
     "start_time": "2023-05-16T10:21:54.858632Z"
    }
   },
   "outputs": [],
   "source": [
    "global goal\n",
    "global client\n",
    "global publisher\n",
    "global msg\n",
    "global num_c\n",
    "global num_r\n",
    "\n",
    "num_c = 0\n",
    "num_r = 0\n",
    "\n",
    "#initialize the node\n",
    "rospy.init_node('RT2_nodeA')"
   ]
  },
  {
   "cell_type": "markdown",
   "id": "6f62ee5c",
   "metadata": {},
   "source": [
    "# Set Publisher  on the topic /pos_and_vel"
   ]
  },
  {
   "cell_type": "code",
   "execution_count": 13,
   "id": "0025a62e",
   "metadata": {
    "ExecuteTime": {
     "end_time": "2023-05-16T10:23:00.763301Z",
     "start_time": "2023-05-16T10:22:59.358968Z"
    }
   },
   "outputs": [
    {
     "ename": "NameError",
     "evalue": "name 'Pos_and_Vel' is not defined",
     "output_type": "error",
     "traceback": [
      "\u001b[0;31m---------------------------------------------------------------------------\u001b[0m",
      "\u001b[0;31mNameError\u001b[0m                                 Traceback (most recent call last)",
      "\u001b[0;32m/tmp/ipykernel_8711/3668472688.py\u001b[0m in \u001b[0;36m<module>\u001b[0;34m\u001b[0m\n\u001b[0;32m----> 1\u001b[0;31m \u001b[0mpublisher\u001b[0m \u001b[0;34m=\u001b[0m \u001b[0mrospy\u001b[0m\u001b[0;34m.\u001b[0m\u001b[0mPublisher\u001b[0m\u001b[0;34m(\u001b[0m\u001b[0;34m\"/pos_and_vel\"\u001b[0m\u001b[0;34m,\u001b[0m \u001b[0mPos_and_Vel\u001b[0m\u001b[0;34m,\u001b[0m \u001b[0mqueue_size\u001b[0m \u001b[0;34m=\u001b[0m \u001b[0;36m10\u001b[0m\u001b[0;34m)\u001b[0m\u001b[0;34m\u001b[0m\u001b[0;34m\u001b[0m\u001b[0m\n\u001b[0m",
      "\u001b[0;31mNameError\u001b[0m: name 'Pos_and_Vel' is not defined"
     ]
    }
   ],
   "source": [
    "publisher = rospy.Publisher(\"/pos_and_vel\", Pos_and_Vel, queue_size = 10)"
   ]
  },
  {
   "cell_type": "markdown",
   "id": "cdee5e25",
   "metadata": {},
   "source": [
    "# Callback function"
   ]
  },
  {
   "cell_type": "code",
   "execution_count": 14,
   "id": "5205e512",
   "metadata": {
    "ExecuteTime": {
     "end_time": "2023-05-16T10:23:04.341639Z",
     "start_time": "2023-05-16T10:23:04.240342Z"
    }
   },
   "outputs": [],
   "source": [
    "def callback(msg):\n",
    "    \n",
    "    pos_vel = Pos_and_Vel()\n",
    "    \n",
    "    pos_vel.pos_x = msg.pose.pose.position.x\n",
    "    pos_vel.pos_y = msg.pose.pose.position.y\n",
    "    pos_vel.vel_x = msg.twist.twist.linear.x\n",
    "    pos_vel.vel_y = msg.twist.twist.linear.y\n",
    "    \n",
    "    publisher.publish(pos_vel)"
   ]
  },
  {
   "cell_type": "markdown",
   "id": "5c2e6982",
   "metadata": {},
   "source": [
    "# Set Subscriber to the topic /odom"
   ]
  },
  {
   "cell_type": "code",
   "execution_count": 15,
   "id": "68c37471",
   "metadata": {
    "ExecuteTime": {
     "end_time": "2023-05-16T10:23:12.570341Z",
     "start_time": "2023-05-16T10:23:11.648700Z"
    }
   },
   "outputs": [
    {
     "name": "stderr",
     "output_type": "stream",
     "text": [
      "Removing previous callback, only one redirection possible right now\n"
     ]
    },
    {
     "data": {
      "application/vnd.jupyter.widget-view+json": {
       "model_id": "a11d00f4751d4842b48cbdf48f74c30d",
       "version_major": 2,
       "version_minor": 0
      },
      "text/plain": [
       "VBox(children=(HBox(children=(Button(description='Stop', style=ButtonStyle()),)), Output(layout=Layout(border=…"
      ]
     },
     "metadata": {},
     "output_type": "display_data"
    }
   ],
   "source": [
    "jr.subscribe(\"/odom\", Odometry, callback)"
   ]
  },
  {
   "cell_type": "markdown",
   "id": "a7af07ae",
   "metadata": {},
   "source": [
    "# Set Action Client "
   ]
  },
  {
   "cell_type": "code",
   "execution_count": 16,
   "id": "7da96553",
   "metadata": {
    "ExecuteTime": {
     "end_time": "2023-05-16T10:23:26.658616Z",
     "start_time": "2023-05-16T10:23:26.297312Z"
    }
   },
   "outputs": [
    {
     "data": {
      "text/plain": [
       "True"
      ]
     },
     "execution_count": 16,
     "metadata": {},
     "output_type": "execute_result"
    }
   ],
   "source": [
    "client = actionlib.SimpleActionClient('/reaching_goal', assignment_2_2022.msg.PlanningAction)\n",
    "\n",
    "#wait for server\n",
    "client.wait_for_server()"
   ]
  },
  {
   "cell_type": "markdown",
   "id": "71ae7a3d",
   "metadata": {},
   "source": [
    "# Widgets interface for setting/canceling goal"
   ]
  },
  {
   "cell_type": "code",
   "execution_count": 17,
   "id": "2b49c8f6",
   "metadata": {
    "ExecuteTime": {
     "end_time": "2023-05-16T10:23:52.256875Z",
     "start_time": "2023-05-16T10:23:51.205133Z"
    }
   },
   "outputs": [
    {
     "ename": "NameError",
     "evalue": "name 'Button' is not defined",
     "output_type": "error",
     "traceback": [
      "\u001b[0;31m---------------------------------------------------------------------------\u001b[0m",
      "\u001b[0;31mNameError\u001b[0m                                 Traceback (most recent call last)",
      "\u001b[0;32m/tmp/ipykernel_8711/761702136.py\u001b[0m in \u001b[0;36m<module>\u001b[0;34m\u001b[0m\n\u001b[1;32m      6\u001b[0m \u001b[0;34m\u001b[0m\u001b[0m\n\u001b[1;32m      7\u001b[0m \u001b[0;31m# Widgets Buttons\u001b[0m\u001b[0;34m\u001b[0m\u001b[0;34m\u001b[0m\u001b[0;34m\u001b[0m\u001b[0m\n\u001b[0;32m----> 8\u001b[0;31m \u001b[0msend_button\u001b[0m \u001b[0;34m=\u001b[0m \u001b[0mButton\u001b[0m\u001b[0;34m(\u001b[0m\u001b[0mdescription\u001b[0m\u001b[0;34m=\u001b[0m\u001b[0;34m'Send goal'\u001b[0m\u001b[0;34m,\u001b[0m\u001b[0mtooltip\u001b[0m\u001b[0;34m=\u001b[0m\u001b[0;34m'Send goal'\u001b[0m\u001b[0;34m,\u001b[0m\u001b[0mlayout\u001b[0m\u001b[0;34m=\u001b[0m\u001b[0mLayout\u001b[0m\u001b[0;34m(\u001b[0m\u001b[0mwidth\u001b[0m\u001b[0;34m=\u001b[0m\u001b[0;34m'50%'\u001b[0m\u001b[0;34m,\u001b[0m \u001b[0mheight\u001b[0m\u001b[0;34m=\u001b[0m\u001b[0;34m'100px'\u001b[0m\u001b[0;34m,\u001b[0m \u001b[0mgrid_area\u001b[0m\u001b[0;34m=\u001b[0m\u001b[0;34m'b1'\u001b[0m\u001b[0;34m)\u001b[0m\u001b[0;34m,\u001b[0m\u001b[0mbutton_style\u001b[0m\u001b[0;34m=\u001b[0m\u001b[0;34m'info'\u001b[0m\u001b[0;34m)\u001b[0m\u001b[0;34m\u001b[0m\u001b[0;34m\u001b[0m\u001b[0m\n\u001b[0m\u001b[1;32m      9\u001b[0m \u001b[0mcancel_button\u001b[0m \u001b[0;34m=\u001b[0m \u001b[0mButton\u001b[0m\u001b[0;34m(\u001b[0m\u001b[0mdescription\u001b[0m\u001b[0;34m=\u001b[0m\u001b[0;34m'Cancel goal'\u001b[0m\u001b[0;34m,\u001b[0m\u001b[0mtooltip\u001b[0m\u001b[0;34m=\u001b[0m\u001b[0;34m'Cancel goal'\u001b[0m\u001b[0;34m,\u001b[0m\u001b[0mlayout\u001b[0m\u001b[0;34m=\u001b[0m\u001b[0mLayout\u001b[0m\u001b[0;34m(\u001b[0m\u001b[0mwidth\u001b[0m\u001b[0;34m=\u001b[0m\u001b[0;34m'50%'\u001b[0m\u001b[0;34m,\u001b[0m\u001b[0mheight\u001b[0m\u001b[0;34m=\u001b[0m\u001b[0;34m'100px'\u001b[0m\u001b[0;34m,\u001b[0m \u001b[0mgrid_area\u001b[0m\u001b[0;34m=\u001b[0m\u001b[0;34m'b2'\u001b[0m\u001b[0;34m)\u001b[0m\u001b[0;34m,\u001b[0m\u001b[0mbutton_style\u001b[0m\u001b[0;34m=\u001b[0m\u001b[0;34m'danger'\u001b[0m\u001b[0;34m)\u001b[0m\u001b[0;34m\u001b[0m\u001b[0;34m\u001b[0m\u001b[0m\n\u001b[1;32m     10\u001b[0m \u001b[0;34m\u001b[0m\u001b[0m\n",
      "\u001b[0;31mNameError\u001b[0m: name 'Button' is not defined"
     ]
    }
   ],
   "source": [
    "goal = assignment_2_2022.msg.PlanningGoal()\n",
    "\n",
    "# Goal coordinates\n",
    "x = widgets.FloatText(value=0 ,step=0.5, description = \"x:\", orientation='horizontal')\n",
    "y = widgets.FloatText(value=0 ,step=0.5, description = \"y:\", orientation='horizontal')\n",
    "\n",
    "# Widgets Buttons\n",
    "send_button = Button(description='Send goal',tooltip='Send goal',layout=Layout(width='50%', height='100px', grid_area='b1'),button_style='info')\n",
    "cancel_button = Button(description='Cancel goal',tooltip='Cancel goal',layout=Layout(width='50%',height='100px', grid_area='b2'),button_style='danger')\n",
    "\n",
    "\n",
    "# if send button is clicked \n",
    "def on_button_send_clicked(b):\n",
    "    \n",
    "    goal.target_pose.pose.position.x = x.value\n",
    "    goal.target_pose.pose.position.y = y.value\n",
    "    \n",
    "    #update goal list\n",
    "    goal_list.value = goal_list.value + \"Goal x: \" + str(x.value) + \"  Goal y: \" + str(y.value)\n",
    "    \n",
    "    #send the goal returned by set_goal()\n",
    "    client.send_goal(goal)\n",
    "    \n",
    "    x.disabled = True\n",
    "    y.disabled = True\n",
    "    send_button.disabled = True\n",
    "    cancel_button.disabled = False\n",
    "    \n",
    "\n",
    "send_button.on_click(on_button_send_clicked)\n",
    "\n",
    "\n",
    "def on_cancel_button_clicked(b):\n",
    "    client.cancel_goal()\n",
    "    \n",
    "cancel_button.on_click(on_cancel_button_clicked)\n",
    "        \n",
    "\n",
    "widgets.HBox([widgets.VBox([x, y]), widgets.VBox([send_button, cancel_button])])\n",
    "\n"
   ]
  },
  {
   "cell_type": "markdown",
   "id": "38d1a935",
   "metadata": {},
   "source": [
    "# Result"
   ]
  },
  {
   "cell_type": "code",
   "execution_count": 18,
   "id": "0ab043db",
   "metadata": {
    "ExecuteTime": {
     "end_time": "2023-05-16T10:23:57.911013Z",
     "start_time": "2023-05-16T10:23:57.730148Z"
    }
   },
   "outputs": [],
   "source": [
    "global reached_list\n",
    "global not_reached_list\n",
    "\n",
    "reached_list = [0]\n",
    "not_reached_list = [0]\n",
    "\n",
    "\n",
    "def update_goals_lists():\n",
    "    #global n_reached, n_not_reached\n",
    "    reached_list.append(num_r)\n",
    "    not_reached_list.append(num_c)\n",
    "\n",
    "def checkGoalResult(data):\n",
    "    \n",
    "    #global n_reached, n_not_reached\n",
    "    \n",
    "    # Get the status \n",
    "    status = msg.status.status\n",
    "\n",
    "    # If status is 2 the goal is canceled\n",
    "    if status == 2:\n",
    "        \n",
    "        num_c = num_c + 1\n",
    "        \n",
    "        x.disabled = False\n",
    "        y.disabled = False\n",
    "        \n",
    "        send_button.disabled = False\n",
    "        cancel_button.disabled = True\n",
    "        \n",
    "        #status.value = \"Goal cancelled!\"\n",
    "        \n",
    "        goal_list.value = goal_list.value + \"    Goal cancelled!\\n\"\n",
    "        \n",
    "        update_goals_lists()\n",
    "\n",
    "    # If status is 3 the goal is reached\n",
    "    elif status == 3:\n",
    "        \n",
    "        num_r = num_r + 1\n",
    "        \n",
    "        x.disabled = False\n",
    "        y.disabled = False\n",
    "        \n",
    "        send_button.disabled = False\n",
    "        cancel_button.disabled = True\n",
    "        \n",
    "        goal_list.value = goal_list.value + \"    Goal reached!\\n\"\n",
    "        \n",
    "        num_r += 1\n",
    "        \n",
    "        update_goals_lists()\n",
    "    \n",
    "    \n",
    "        \n",
    "    elif data.feedback.stat == \"Target cancelled!\":\n",
    "        \n",
    "        x.disabled = False\n",
    "        y.disabled = False\n",
    "        \n",
    "        send_button.disabled = False\n",
    "        cancel_button.disabled = True\n",
    "        \n",
    "        #status.value = \"Goal cancelled!\"\n",
    "        \n",
    "        goal_list.value = goal_list.value + \"    Goal cancelled!\\n\"\n",
    "        \n",
    "        num_c += 1\n",
    "        \n",
    "        update_goals_lists()"
   ]
  },
  {
   "cell_type": "markdown",
   "id": "a1112947",
   "metadata": {},
   "source": [
    "# Set Subscriber for feedback"
   ]
  },
  {
   "cell_type": "code",
   "execution_count": 19,
   "id": "d1c4e03a",
   "metadata": {
    "ExecuteTime": {
     "end_time": "2023-05-16T10:24:02.264214Z",
     "start_time": "2023-05-16T10:24:01.884146Z"
    }
   },
   "outputs": [
    {
     "data": {
      "application/vnd.jupyter.widget-view+json": {
       "model_id": "57af2e9463ed44d4bc79bc1aa004e89c",
       "version_major": 2,
       "version_minor": 0
      },
      "text/plain": [
       "VBox(children=(HBox(children=(Button(description='Stop', style=ButtonStyle()),)), Output(layout=Layout(border=…"
      ]
     },
     "metadata": {},
     "output_type": "display_data"
    }
   ],
   "source": [
    "jr.subscribe(\"/reaching_goal/result\", assignment_2_2022.msg.PlanningActionResult, checkGoalResult)"
   ]
  },
  {
   "cell_type": "markdown",
   "id": "d69e2439",
   "metadata": {},
   "source": [
    "# Live pos and vel"
   ]
  },
  {
   "cell_type": "code",
   "execution_count": 20,
   "id": "105dc0e2",
   "metadata": {
    "ExecuteTime": {
     "end_time": "2023-05-16T10:24:17.582172Z",
     "start_time": "2023-05-16T10:24:16.816247Z"
    }
   },
   "outputs": [
    {
     "data": {
      "application/vnd.jupyter.widget-view+json": {
       "model_id": "c1f0126bc60c48d6bec8e6a6435cb1e9",
       "version_major": 2,
       "version_minor": 0
      },
      "text/plain": [
       "HBox(children=(VBox(children=(FloatText(value=0.0, description='Pos x:', disabled=True), FloatText(value=0.0, …"
      ]
     },
     "metadata": {},
     "output_type": "display_data"
    }
   ],
   "source": [
    "posx = widgets.FloatText(description = \"Pos x:\", disabled = True)\n",
    "posy = widgets.FloatText(description = \"Pos y:\", disabled = True)\n",
    "velx = widgets.FloatText(description = \"Vel x:\", disabled = True)\n",
    "vely = widgets.FloatText(description = \"Vel y:\", disabled = True)\n",
    "    \n",
    "widgets.HBox([widgets.VBox([posx, posy]), widgets.VBox([velx, vely])])"
   ]
  },
  {
   "cell_type": "markdown",
   "id": "346f618c",
   "metadata": {},
   "source": [
    "# Data Visualization functions"
   ]
  },
  {
   "cell_type": "code",
   "execution_count": 21,
   "id": "f2d334fe",
   "metadata": {
    "ExecuteTime": {
     "end_time": "2023-05-16T10:24:24.089119Z",
     "start_time": "2023-05-16T10:24:23.924945Z"
    }
   },
   "outputs": [],
   "source": [
    "class Visualiser:\n",
    "    def __init__(self):\n",
    "        self.fig, self.ax = plt.subplots()\n",
    "        self.ln, = plt.plot([], [], 'ro')\n",
    "        self.x_data, self.y_data = [] , []\n",
    "    def plot_init(self):\n",
    "        self.ax.set_xlim(-10, 10)\n",
    "        self.ax.set_ylim(-10, 10)\n",
    "        return self.ln\n",
    "    def vis_callback(self, data):\n",
    "        self.y_data.append(data.y)\n",
    "        self.x_data.append(data.x)\n",
    "        posx.value = data.x\n",
    "        posy.value = data.y\n",
    "        velx.value = data.vel_x\n",
    "        vely.value = data.vel_y\n",
    "        \n",
    "    def update_plot(self, frame):\n",
    "        self.ln.set_data(self.x_data, self.y_data)\n",
    "        return self.ln"
   ]
  },
  {
   "cell_type": "markdown",
   "id": "71eecf68",
   "metadata": {},
   "source": [
    "# Visualize Data"
   ]
  },
  {
   "cell_type": "code",
   "execution_count": 22,
   "id": "32affcaa",
   "metadata": {
    "ExecuteTime": {
     "end_time": "2023-05-16T10:24:45.904796Z",
     "start_time": "2023-05-16T10:24:42.590439Z"
    }
   },
   "outputs": [
    {
     "data": {
      "application/vnd.jupyter.widget-view+json": {
       "model_id": "a2ac34027e4a4c239cd6ce2a4dc67f8a",
       "version_major": 2,
       "version_minor": 0
      },
      "text/plain": [
       "Canvas(toolbar=Toolbar(toolitems=[('Home', 'Reset original view', 'home', 'home'), ('Back', 'Back to previous …"
      ]
     },
     "metadata": {},
     "output_type": "display_data"
    },
    {
     "ename": "NameError",
     "evalue": "name 'Pos_and_Vel' is not defined",
     "output_type": "error",
     "traceback": [
      "\u001b[0;31m---------------------------------------------------------------------------\u001b[0m",
      "\u001b[0;31mNameError\u001b[0m                                 Traceback (most recent call last)",
      "\u001b[0;32m/tmp/ipykernel_8711/1177102382.py\u001b[0m in \u001b[0;36m<module>\u001b[0;34m\u001b[0m\n\u001b[1;32m      1\u001b[0m \u001b[0mget_ipython\u001b[0m\u001b[0;34m(\u001b[0m\u001b[0;34m)\u001b[0m\u001b[0;34m.\u001b[0m\u001b[0mrun_line_magic\u001b[0m\u001b[0;34m(\u001b[0m\u001b[0;34m'matplotlib'\u001b[0m\u001b[0;34m,\u001b[0m \u001b[0;34m'widget'\u001b[0m\u001b[0;34m)\u001b[0m\u001b[0;34m\u001b[0m\u001b[0;34m\u001b[0m\u001b[0m\n\u001b[1;32m      2\u001b[0m \u001b[0mvis\u001b[0m \u001b[0;34m=\u001b[0m \u001b[0mVisualiser\u001b[0m\u001b[0;34m(\u001b[0m\u001b[0;34m)\u001b[0m\u001b[0;34m\u001b[0m\u001b[0;34m\u001b[0m\u001b[0m\n\u001b[0;32m----> 3\u001b[0;31m \u001b[0msub\u001b[0m \u001b[0;34m=\u001b[0m \u001b[0mjr\u001b[0m\u001b[0;34m.\u001b[0m\u001b[0msubscribe\u001b[0m\u001b[0;34m(\u001b[0m\u001b[0;34m'/pos_and_vel'\u001b[0m\u001b[0;34m,\u001b[0m \u001b[0mPos_and_Vel\u001b[0m\u001b[0;34m,\u001b[0m \u001b[0mvis\u001b[0m\u001b[0;34m.\u001b[0m\u001b[0mvis_callback\u001b[0m\u001b[0;34m)\u001b[0m\u001b[0;34m\u001b[0m\u001b[0;34m\u001b[0m\u001b[0m\n\u001b[0m\u001b[1;32m      4\u001b[0m \u001b[0;34m\u001b[0m\u001b[0m\n\u001b[1;32m      5\u001b[0m \u001b[0mani\u001b[0m \u001b[0;34m=\u001b[0m \u001b[0mFuncAnimation\u001b[0m\u001b[0;34m(\u001b[0m\u001b[0mvis\u001b[0m\u001b[0;34m.\u001b[0m\u001b[0mfig\u001b[0m\u001b[0;34m,\u001b[0m \u001b[0mvis\u001b[0m\u001b[0;34m.\u001b[0m\u001b[0mupdate_plot\u001b[0m\u001b[0;34m,\u001b[0m \u001b[0minit_func\u001b[0m\u001b[0;34m=\u001b[0m\u001b[0mvis\u001b[0m\u001b[0;34m.\u001b[0m\u001b[0mplot_init\u001b[0m\u001b[0;34m)\u001b[0m\u001b[0;34m\u001b[0m\u001b[0;34m\u001b[0m\u001b[0m\n",
      "\u001b[0;31mNameError\u001b[0m: name 'Pos_and_Vel' is not defined"
     ]
    }
   ],
   "source": [
    "get_ipython().run_line_magic('matplotlib', 'widget')\n",
    "vis = Visualiser()\n",
    "sub = jr.subscribe('/pos_and_vel', Pos_and_Vel, vis.vis_callback)\n",
    "\n",
    "ani = FuncAnimation(vis.fig, vis.update_plot, init_func=vis.plot_init)\n",
    "plt.show(block=True)"
   ]
  },
  {
   "cell_type": "markdown",
   "id": "064d3278",
   "metadata": {},
   "source": [
    "# Display goal list"
   ]
  },
  {
   "cell_type": "code",
   "execution_count": 23,
   "id": "aed4a4a1",
   "metadata": {
    "ExecuteTime": {
     "end_time": "2023-05-16T10:25:07.134399Z",
     "start_time": "2023-05-16T10:25:06.959833Z"
    }
   },
   "outputs": [
    {
     "data": {
      "application/vnd.jupyter.widget-view+json": {
       "model_id": "3673e18a6ba746009950251e1467a838",
       "version_major": 2,
       "version_minor": 0
      },
      "text/plain": [
       "Textarea(value='Goal list:\\n', disabled=True)"
      ]
     },
     "metadata": {},
     "output_type": "display_data"
    }
   ],
   "source": [
    "goal_list = widgets.Textarea(value = \"Goal list:\\n\", disabled = True, style = dict(text_color = 'red') )\n",
    "\n",
    "display(goal_list)"
   ]
  },
  {
   "cell_type": "markdown",
   "id": "35765494",
   "metadata": {},
   "source": [
    "# Laser function"
   ]
  },
  {
   "cell_type": "code",
   "execution_count": 24,
   "id": "f9cde5d1",
   "metadata": {
    "ExecuteTime": {
     "end_time": "2023-05-16T10:25:12.140167Z",
     "start_time": "2023-05-16T10:25:11.769140Z"
    }
   },
   "outputs": [
    {
     "data": {
      "application/vnd.jupyter.widget-view+json": {
       "model_id": "4ef4fd70b2c9492ab9db585ef3f2cf85",
       "version_major": 2,
       "version_minor": 0
      },
      "text/plain": [
       "HBox(children=(FloatText(value=0.0, description='Distance:', disabled=True), FloatText(value=0.0, description=…"
      ]
     },
     "metadata": {},
     "output_type": "display_data"
    }
   ],
   "source": [
    "rmin = widgets.FloatText(description = \"Distance:\", disabled = True)\n",
    "ang = widgets.FloatText(description = \"Angle:\", disabled = True)\n",
    "\n",
    "def laserCallback(scan):\n",
    "    min_range = 100\n",
    "    angle = 100\n",
    "    for at, x in enumerate(scan.ranges):\n",
    "        if x < min_range and x > scan.range_min:\n",
    "            min_range = x\n",
    "            angle = scan.angle_min + scan.angle_increment * at\n",
    "    \n",
    "    rmin.value = min_range\n",
    "    ang.value = angle\n",
    "    \n",
    "widgets.HBox([rmin, ang], description = \"Distance from obstacle\")"
   ]
  },
  {
   "cell_type": "markdown",
   "id": "4d18efa5",
   "metadata": {},
   "source": [
    "# Set Subscriber to topic /scan"
   ]
  },
  {
   "cell_type": "code",
   "execution_count": 25,
   "id": "c7264d2a",
   "metadata": {
    "ExecuteTime": {
     "end_time": "2023-05-16T10:25:17.536196Z",
     "start_time": "2023-05-16T10:25:17.341857Z"
    }
   },
   "outputs": [
    {
     "ename": "NameError",
     "evalue": "name 'LaserScan' is not defined",
     "output_type": "error",
     "traceback": [
      "\u001b[0;31m---------------------------------------------------------------------------\u001b[0m",
      "\u001b[0;31mNameError\u001b[0m                                 Traceback (most recent call last)",
      "\u001b[0;32m/tmp/ipykernel_8711/2240173367.py\u001b[0m in \u001b[0;36m<module>\u001b[0;34m\u001b[0m\n\u001b[0;32m----> 1\u001b[0;31m \u001b[0mjr\u001b[0m\u001b[0;34m.\u001b[0m\u001b[0msubscribe\u001b[0m\u001b[0;34m(\u001b[0m\u001b[0;34m'/scan'\u001b[0m\u001b[0;34m,\u001b[0m \u001b[0mLaserScan\u001b[0m\u001b[0;34m,\u001b[0m \u001b[0mlaserCallback\u001b[0m\u001b[0;34m)\u001b[0m\u001b[0;34m\u001b[0m\u001b[0;34m\u001b[0m\u001b[0m\n\u001b[0m",
      "\u001b[0;31mNameError\u001b[0m: name 'LaserScan' is not defined"
     ]
    }
   ],
   "source": [
    "jr.subscribe('/scan', LaserScan, laserCallback)"
   ]
  },
  {
   "cell_type": "markdown",
   "id": "b8929ee5",
   "metadata": {},
   "source": [
    "# Display obstacle distance with laser"
   ]
  },
  {
   "cell_type": "code",
   "execution_count": 26,
   "id": "92d7d1ce",
   "metadata": {
    "ExecuteTime": {
     "end_time": "2023-05-16T10:25:29.656688Z",
     "start_time": "2023-05-16T10:25:29.229221Z"
    }
   },
   "outputs": [
    {
     "data": {
      "application/vnd.jupyter.widget-view+json": {
       "model_id": "d65eb9db3453478c82aa946768a47955",
       "version_major": 2,
       "version_minor": 0
      },
      "text/plain": [
       "Button(button_style='success', description='Update graph!', style=ButtonStyle())"
      ]
     },
     "metadata": {},
     "output_type": "display_data"
    }
   ],
   "source": [
    "get_ipython().run_line_magic('matplotlib', 'widget')\n",
    "\n",
    "button_update = widgets.Button(description = \"Update graph!\", button_style = \"success\")\n",
    "\n",
    "def on_button_update_clicked(b):\n",
    "    plt.figure(2)\n",
    "    line1, = plt.plot(reached_list, label=\"Reached\", color = 'green')\n",
    "    line2, = plt.plot(not_reached_list, label=\"Not-Reached\", color = 'red')\n",
    "    # Create a legend for the first line.\n",
    "    first_legend = plt.legend(handles=[line1], loc='lower left')\n",
    "    # Add the legend manually to the current Axes.\n",
    "    plt.gca().add_artist(first_legend)\n",
    "    # Create another legend for the second line.\n",
    "    plt.legend(handles=[line2], loc='lower right')\n",
    "    plt.show()\n",
    "    \n",
    "button_update.on_click(on_button_update_clicked)\n",
    "display(button_update)"
   ]
  },
  {
   "cell_type": "code",
   "execution_count": null,
   "id": "d605fb08",
   "metadata": {},
   "outputs": [],
   "source": []
  },
  {
   "cell_type": "code",
   "execution_count": null,
   "id": "b93f968d",
   "metadata": {},
   "outputs": [],
   "source": []
  }
 ],
 "metadata": {
  "kernelspec": {
   "display_name": "Python 3 (ipykernel)",
   "language": "python",
   "name": "python3"
  },
  "language_info": {
   "codemirror_mode": {
    "name": "ipython",
    "version": 3
   },
   "file_extension": ".py",
   "mimetype": "text/x-python",
   "name": "python",
   "nbconvert_exporter": "python",
   "pygments_lexer": "ipython3",
   "version": "3.8.5"
  },
  "toc": {
   "base_numbering": 1,
   "nav_menu": {},
   "number_sections": true,
   "sideBar": true,
   "skip_h1_title": false,
   "title_cell": "Table of Contents",
   "title_sidebar": "Contents",
   "toc_cell": false,
   "toc_position": {},
   "toc_section_display": true,
   "toc_window_display": false
  },
  "varInspector": {
   "cols": {
    "lenName": 16,
    "lenType": 16,
    "lenVar": 40
   },
   "kernels_config": {
    "python": {
     "delete_cmd_postfix": "",
     "delete_cmd_prefix": "del ",
     "library": "var_list.py",
     "varRefreshCmd": "print(var_dic_list())"
    },
    "r": {
     "delete_cmd_postfix": ") ",
     "delete_cmd_prefix": "rm(",
     "library": "var_list.r",
     "varRefreshCmd": "cat(var_dic_list()) "
    }
   },
   "types_to_exclude": [
    "module",
    "function",
    "builtin_function_or_method",
    "instance",
    "_Feature"
   ],
   "window_display": false
  }
 },
 "nbformat": 4,
 "nbformat_minor": 5
}
